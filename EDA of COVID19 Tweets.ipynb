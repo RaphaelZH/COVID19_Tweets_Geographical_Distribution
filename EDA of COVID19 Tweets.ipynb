{
 "cells": [
  {
   "cell_type": "markdown",
   "metadata": {
    "toc": true
   },
   "source": [
    "<h1>Table of Contents<span class=\"tocSkip\"></span></h1>\n",
    "<div class=\"toc\"><ul class=\"toc-item\"><li><span><a href=\"#Importation-of-the-necessary-libraries\" data-toc-modified-id=\"Importation-of-the-necessary-libraries-1\"><span class=\"toc-item-num\">1&nbsp;&nbsp;</span>Importation of the necessary libraries</a></span><ul class=\"toc-item\"><li><span><a href=\"#Necessary-libraries-for-data-analysis\" data-toc-modified-id=\"Necessary-libraries-for-data-analysis-1.1\"><span class=\"toc-item-num\">1.1&nbsp;&nbsp;</span>Necessary libraries for data analysis</a></span></li></ul></li><li><span><a href=\"#Preliminary-investigation-of-the-primary-data-set\" data-toc-modified-id=\"Preliminary-investigation-of-the-primary-data-set-2\"><span class=\"toc-item-num\">2&nbsp;&nbsp;</span>Preliminary investigation of the primary data set</a></span></li><li><span><a href=\"#Geospatial-distribution-of-Tweets\" data-toc-modified-id=\"Geospatial-distribution-of-Tweets-3\"><span class=\"toc-item-num\">3&nbsp;&nbsp;</span>Geospatial distribution of Tweets</a></span><ul class=\"toc-item\"><li><span><a href=\"#Data-preparation\" data-toc-modified-id=\"Data-preparation-3.1\"><span class=\"toc-item-num\">3.1&nbsp;&nbsp;</span>Data preparation</a></span></li><li><span><a href=\"#Importation-of-the-necessary-auxiliary-data-set\" data-toc-modified-id=\"Importation-of-the-necessary-auxiliary-data-set-3.2\"><span class=\"toc-item-num\">3.2&nbsp;&nbsp;</span>Importation of the necessary auxiliary data set</a></span></li><li><span><a href=\"#Preparation-of-the-geographic-information-between-data-sets\" data-toc-modified-id=\"Preparation-of-the-geographic-information-between-data-sets-3.3\"><span class=\"toc-item-num\">3.3&nbsp;&nbsp;</span>Preparation of the geographic information between data sets</a></span></li><li><span><a href=\"#Data-mapping-among-the-datasets\" data-toc-modified-id=\"Data-mapping-among-the-datasets-3.4\"><span class=\"toc-item-num\">3.4&nbsp;&nbsp;</span>Data mapping among the datasets</a></span></li></ul></li><li><span><a href=\"#Kaggle-dataset----Twitter-sentiment-analysis\" data-toc-modified-id=\"Kaggle-dataset----Twitter-sentiment-analysis-4\"><span class=\"toc-item-num\">4&nbsp;&nbsp;</span>Kaggle dataset -- Twitter sentiment analysis</a></span></li></ul></div>"
   ]
  },
  {
   "cell_type": "markdown",
   "metadata": {},
   "source": [
    "# Importation of the necessary libraries\n",
    "\n",
    "## Necessary libraries for data analysis"
   ]
  },
  {
   "cell_type": "code",
   "execution_count": 1,
   "metadata": {
    "ExecuteTime": {
     "end_time": "2021-02-12T06:51:59.636315Z",
     "start_time": "2021-02-12T06:51:58.342710Z"
    }
   },
   "outputs": [],
   "source": [
    "import pandas as pd\n",
    "import numpy as np"
   ]
  },
  {
   "cell_type": "markdown",
   "metadata": {},
   "source": [
    "# Preliminary investigation of the primary data set"
   ]
  },
  {
   "cell_type": "code",
   "execution_count": 2,
   "metadata": {
    "ExecuteTime": {
     "end_time": "2021-02-12T06:52:05.630454Z",
     "start_time": "2021-02-12T06:52:00.003576Z"
    }
   },
   "outputs": [
    {
     "data": {
      "text/html": [
       "<div>\n",
       "<style scoped>\n",
       "    .dataframe tbody tr th:only-of-type {\n",
       "        vertical-align: middle;\n",
       "    }\n",
       "\n",
       "    .dataframe tbody tr th {\n",
       "        vertical-align: top;\n",
       "    }\n",
       "\n",
       "    .dataframe thead th {\n",
       "        text-align: right;\n",
       "    }\n",
       "</style>\n",
       "<table border=\"1\" class=\"dataframe\">\n",
       "  <thead>\n",
       "    <tr style=\"text-align: right;\">\n",
       "      <th></th>\n",
       "      <th>user_name</th>\n",
       "      <th>user_location</th>\n",
       "      <th>user_description</th>\n",
       "      <th>user_created</th>\n",
       "      <th>user_followers</th>\n",
       "      <th>user_friends</th>\n",
       "      <th>user_favourites</th>\n",
       "      <th>user_verified</th>\n",
       "      <th>date</th>\n",
       "      <th>text</th>\n",
       "      <th>hashtags</th>\n",
       "      <th>source</th>\n",
       "      <th>is_retweet</th>\n",
       "    </tr>\n",
       "  </thead>\n",
       "  <tbody>\n",
       "    <tr>\n",
       "      <th>0</th>\n",
       "      <td>ᏉᎥ☻լꂅϮ</td>\n",
       "      <td>astroworld</td>\n",
       "      <td>wednesday addams as a disney princess keepin i...</td>\n",
       "      <td>2017-05-26 05:46:42</td>\n",
       "      <td>624</td>\n",
       "      <td>950</td>\n",
       "      <td>18775</td>\n",
       "      <td>False</td>\n",
       "      <td>2020-07-25 12:27:21</td>\n",
       "      <td>If I smelled the scent of hand sanitizers toda...</td>\n",
       "      <td>NaN</td>\n",
       "      <td>Twitter for iPhone</td>\n",
       "      <td>False</td>\n",
       "    </tr>\n",
       "    <tr>\n",
       "      <th>1</th>\n",
       "      <td>Tom Basile 🇺🇸</td>\n",
       "      <td>New York, NY</td>\n",
       "      <td>Husband, Father, Columnist &amp; Commentator. Auth...</td>\n",
       "      <td>2009-04-16 20:06:23</td>\n",
       "      <td>2253</td>\n",
       "      <td>1677</td>\n",
       "      <td>24</td>\n",
       "      <td>True</td>\n",
       "      <td>2020-07-25 12:27:17</td>\n",
       "      <td>Hey @Yankees @YankeesPR and @MLB - wouldn't it...</td>\n",
       "      <td>NaN</td>\n",
       "      <td>Twitter for Android</td>\n",
       "      <td>False</td>\n",
       "    </tr>\n",
       "    <tr>\n",
       "      <th>2</th>\n",
       "      <td>Time4fisticuffs</td>\n",
       "      <td>Pewee Valley, KY</td>\n",
       "      <td>#Christian #Catholic #Conservative #Reagan #Re...</td>\n",
       "      <td>2009-02-28 18:57:41</td>\n",
       "      <td>9275</td>\n",
       "      <td>9525</td>\n",
       "      <td>7254</td>\n",
       "      <td>False</td>\n",
       "      <td>2020-07-25 12:27:14</td>\n",
       "      <td>@diane3443 @wdunlap @realDonaldTrump Trump nev...</td>\n",
       "      <td>['COVID19']</td>\n",
       "      <td>Twitter for Android</td>\n",
       "      <td>False</td>\n",
       "    </tr>\n",
       "    <tr>\n",
       "      <th>3</th>\n",
       "      <td>ethel mertz</td>\n",
       "      <td>Stuck in the Middle</td>\n",
       "      <td>#Browns #Indians #ClevelandProud #[]_[] #Cavs ...</td>\n",
       "      <td>2019-03-07 01:45:06</td>\n",
       "      <td>197</td>\n",
       "      <td>987</td>\n",
       "      <td>1488</td>\n",
       "      <td>False</td>\n",
       "      <td>2020-07-25 12:27:10</td>\n",
       "      <td>@brookbanktv The one gift #COVID19 has give me...</td>\n",
       "      <td>['COVID19']</td>\n",
       "      <td>Twitter for iPhone</td>\n",
       "      <td>False</td>\n",
       "    </tr>\n",
       "    <tr>\n",
       "      <th>4</th>\n",
       "      <td>DIPR-J&amp;K</td>\n",
       "      <td>Jammu and Kashmir</td>\n",
       "      <td>🖊️Official Twitter handle of Department of Inf...</td>\n",
       "      <td>2017-02-12 06:45:15</td>\n",
       "      <td>101009</td>\n",
       "      <td>168</td>\n",
       "      <td>101</td>\n",
       "      <td>False</td>\n",
       "      <td>2020-07-25 12:27:08</td>\n",
       "      <td>25 July : Media Bulletin on Novel #CoronaVirus...</td>\n",
       "      <td>['CoronaVirusUpdates', 'COVID19']</td>\n",
       "      <td>Twitter for Android</td>\n",
       "      <td>False</td>\n",
       "    </tr>\n",
       "  </tbody>\n",
       "</table>\n",
       "</div>"
      ],
      "text/plain": [
       "         user_name         user_location  \\\n",
       "0           ᏉᎥ☻լꂅϮ            astroworld   \n",
       "1    Tom Basile 🇺🇸          New York, NY   \n",
       "2  Time4fisticuffs      Pewee Valley, KY   \n",
       "3      ethel mertz  Stuck in the Middle    \n",
       "4         DIPR-J&K     Jammu and Kashmir   \n",
       "\n",
       "                                    user_description         user_created  \\\n",
       "0  wednesday addams as a disney princess keepin i...  2017-05-26 05:46:42   \n",
       "1  Husband, Father, Columnist & Commentator. Auth...  2009-04-16 20:06:23   \n",
       "2  #Christian #Catholic #Conservative #Reagan #Re...  2009-02-28 18:57:41   \n",
       "3  #Browns #Indians #ClevelandProud #[]_[] #Cavs ...  2019-03-07 01:45:06   \n",
       "4  🖊️Official Twitter handle of Department of Inf...  2017-02-12 06:45:15   \n",
       "\n",
       "   user_followers  user_friends  user_favourites  user_verified  \\\n",
       "0             624           950            18775          False   \n",
       "1            2253          1677               24           True   \n",
       "2            9275          9525             7254          False   \n",
       "3             197           987             1488          False   \n",
       "4          101009           168              101          False   \n",
       "\n",
       "                  date                                               text  \\\n",
       "0  2020-07-25 12:27:21  If I smelled the scent of hand sanitizers toda...   \n",
       "1  2020-07-25 12:27:17  Hey @Yankees @YankeesPR and @MLB - wouldn't it...   \n",
       "2  2020-07-25 12:27:14  @diane3443 @wdunlap @realDonaldTrump Trump nev...   \n",
       "3  2020-07-25 12:27:10  @brookbanktv The one gift #COVID19 has give me...   \n",
       "4  2020-07-25 12:27:08  25 July : Media Bulletin on Novel #CoronaVirus...   \n",
       "\n",
       "                            hashtags               source  is_retweet  \n",
       "0                                NaN   Twitter for iPhone       False  \n",
       "1                                NaN  Twitter for Android       False  \n",
       "2                        ['COVID19']  Twitter for Android       False  \n",
       "3                        ['COVID19']   Twitter for iPhone       False  \n",
       "4  ['CoronaVirusUpdates', 'COVID19']  Twitter for Android       False  "
      ]
     },
     "execution_count": 2,
     "metadata": {},
     "output_type": "execute_result"
    }
   ],
   "source": [
    "# URL: https://www.kaggle.com/gpreda/covid19-tweets\n",
    "covid19_tweets = pd.read_csv(\"covid19_tweets.csv\")\n",
    "\n",
    "covid19_tweets.head()"
   ]
  },
  {
   "cell_type": "code",
   "execution_count": 3,
   "metadata": {
    "ExecuteTime": {
     "end_time": "2021-02-12T06:52:05.652616Z",
     "start_time": "2021-02-12T06:52:05.641464Z"
    }
   },
   "outputs": [
    {
     "data": {
      "text/plain": [
       "(179108, 13)"
      ]
     },
     "execution_count": 3,
     "metadata": {},
     "output_type": "execute_result"
    }
   ],
   "source": [
    "covid19_tweets.shape"
   ]
  },
  {
   "cell_type": "code",
   "execution_count": 4,
   "metadata": {
    "ExecuteTime": {
     "end_time": "2021-02-12T06:52:05.945749Z",
     "start_time": "2021-02-12T06:52:05.677442Z"
    }
   },
   "outputs": [
    {
     "name": "stdout",
     "output_type": "stream",
     "text": [
      "<class 'pandas.core.frame.DataFrame'>\n",
      "RangeIndex: 179108 entries, 0 to 179107\n",
      "Data columns (total 13 columns):\n",
      " #   Column            Non-Null Count   Dtype \n",
      "---  ------            --------------   ----- \n",
      " 0   user_name         179108 non-null  object\n",
      " 1   user_location     142337 non-null  object\n",
      " 2   user_description  168822 non-null  object\n",
      " 3   user_created      179108 non-null  object\n",
      " 4   user_followers    179108 non-null  int64 \n",
      " 5   user_friends      179108 non-null  int64 \n",
      " 6   user_favourites   179108 non-null  int64 \n",
      " 7   user_verified     179108 non-null  bool  \n",
      " 8   date              179108 non-null  object\n",
      " 9   text              179108 non-null  object\n",
      " 10  hashtags          127774 non-null  object\n",
      " 11  source            179031 non-null  object\n",
      " 12  is_retweet        179108 non-null  bool  \n",
      "dtypes: bool(2), int64(3), object(8)\n",
      "memory usage: 15.4+ MB\n"
     ]
    }
   ],
   "source": [
    "covid19_tweets.info()"
   ]
  },
  {
   "cell_type": "code",
   "execution_count": 5,
   "metadata": {
    "ExecuteTime": {
     "end_time": "2021-02-12T06:52:05.990178Z",
     "start_time": "2021-02-12T06:52:05.978836Z"
    }
   },
   "outputs": [
    {
     "data": {
      "text/plain": [
       "Index(['user_name', 'user_location', 'user_description', 'user_created',\n",
       "       'user_followers', 'user_friends', 'user_favourites', 'user_verified',\n",
       "       'date', 'text', 'hashtags', 'source', 'is_retweet'],\n",
       "      dtype='object')"
      ]
     },
     "execution_count": 5,
     "metadata": {},
     "output_type": "execute_result"
    }
   ],
   "source": [
    "covid19_tweets.columns"
   ]
  },
  {
   "cell_type": "code",
   "execution_count": 6,
   "metadata": {
    "ExecuteTime": {
     "end_time": "2021-02-12T06:52:06.139791Z",
     "start_time": "2021-02-12T06:52:05.997705Z"
    }
   },
   "outputs": [
    {
     "data": {
      "text/html": [
       "<div>\n",
       "<style scoped>\n",
       "    .dataframe tbody tr th:only-of-type {\n",
       "        vertical-align: middle;\n",
       "    }\n",
       "\n",
       "    .dataframe tbody tr th {\n",
       "        vertical-align: top;\n",
       "    }\n",
       "\n",
       "    .dataframe thead th {\n",
       "        text-align: right;\n",
       "    }\n",
       "</style>\n",
       "<table border=\"1\" class=\"dataframe\">\n",
       "  <thead>\n",
       "    <tr style=\"text-align: right;\">\n",
       "      <th></th>\n",
       "      <th>user_location</th>\n",
       "      <th>text</th>\n",
       "      <th>hashtags</th>\n",
       "      <th>source</th>\n",
       "    </tr>\n",
       "  </thead>\n",
       "  <tbody>\n",
       "    <tr>\n",
       "      <th>0</th>\n",
       "      <td>astroworld</td>\n",
       "      <td>If I smelled the scent of hand sanitizers toda...</td>\n",
       "      <td>NaN</td>\n",
       "      <td>Twitter for iPhone</td>\n",
       "    </tr>\n",
       "    <tr>\n",
       "      <th>1</th>\n",
       "      <td>New York, NY</td>\n",
       "      <td>Hey @Yankees @YankeesPR and @MLB - wouldn't it...</td>\n",
       "      <td>NaN</td>\n",
       "      <td>Twitter for Android</td>\n",
       "    </tr>\n",
       "    <tr>\n",
       "      <th>2</th>\n",
       "      <td>Pewee Valley, KY</td>\n",
       "      <td>@diane3443 @wdunlap @realDonaldTrump Trump nev...</td>\n",
       "      <td>['COVID19']</td>\n",
       "      <td>Twitter for Android</td>\n",
       "    </tr>\n",
       "    <tr>\n",
       "      <th>3</th>\n",
       "      <td>Stuck in the Middle</td>\n",
       "      <td>@brookbanktv The one gift #COVID19 has give me...</td>\n",
       "      <td>['COVID19']</td>\n",
       "      <td>Twitter for iPhone</td>\n",
       "    </tr>\n",
       "    <tr>\n",
       "      <th>4</th>\n",
       "      <td>Jammu and Kashmir</td>\n",
       "      <td>25 July : Media Bulletin on Novel #CoronaVirus...</td>\n",
       "      <td>['CoronaVirusUpdates', 'COVID19']</td>\n",
       "      <td>Twitter for Android</td>\n",
       "    </tr>\n",
       "    <tr>\n",
       "      <th>...</th>\n",
       "      <td>...</td>\n",
       "      <td>...</td>\n",
       "      <td>...</td>\n",
       "      <td>...</td>\n",
       "    </tr>\n",
       "    <tr>\n",
       "      <th>179103</th>\n",
       "      <td>Ilorin, Nigeria</td>\n",
       "      <td>Thanks @IamOhmai for nominating me for the @WH...</td>\n",
       "      <td>['WearAMask']</td>\n",
       "      <td>Twitter for Android</td>\n",
       "    </tr>\n",
       "    <tr>\n",
       "      <th>179104</th>\n",
       "      <td>Ontario</td>\n",
       "      <td>2020! The year of insanity! Lol! #COVID19 http...</td>\n",
       "      <td>['COVID19']</td>\n",
       "      <td>Twitter for Android</td>\n",
       "    </tr>\n",
       "    <tr>\n",
       "      <th>179105</th>\n",
       "      <td>🇨🇦 Canada</td>\n",
       "      <td>@CTVNews A powerful painting by Juan Lucena. I...</td>\n",
       "      <td>NaN</td>\n",
       "      <td>Twitter Web App</td>\n",
       "    </tr>\n",
       "    <tr>\n",
       "      <th>179106</th>\n",
       "      <td>New York City</td>\n",
       "      <td>More than 1,200 students test positive for #CO...</td>\n",
       "      <td>['COVID19']</td>\n",
       "      <td>Twitter for iPhone</td>\n",
       "    </tr>\n",
       "    <tr>\n",
       "      <th>179107</th>\n",
       "      <td>Aliwal North, South Africa</td>\n",
       "      <td>I stop when I see a Stop\\n\\n@SABCNews\\n@Izinda...</td>\n",
       "      <td>NaN</td>\n",
       "      <td>Twitter for Android</td>\n",
       "    </tr>\n",
       "  </tbody>\n",
       "</table>\n",
       "<p>179108 rows × 4 columns</p>\n",
       "</div>"
      ],
      "text/plain": [
       "                     user_location  \\\n",
       "0                       astroworld   \n",
       "1                     New York, NY   \n",
       "2                 Pewee Valley, KY   \n",
       "3             Stuck in the Middle    \n",
       "4                Jammu and Kashmir   \n",
       "...                            ...   \n",
       "179103             Ilorin, Nigeria   \n",
       "179104                     Ontario   \n",
       "179105                   🇨🇦 Canada   \n",
       "179106               New York City   \n",
       "179107  Aliwal North, South Africa   \n",
       "\n",
       "                                                     text  \\\n",
       "0       If I smelled the scent of hand sanitizers toda...   \n",
       "1       Hey @Yankees @YankeesPR and @MLB - wouldn't it...   \n",
       "2       @diane3443 @wdunlap @realDonaldTrump Trump nev...   \n",
       "3       @brookbanktv The one gift #COVID19 has give me...   \n",
       "4       25 July : Media Bulletin on Novel #CoronaVirus...   \n",
       "...                                                   ...   \n",
       "179103  Thanks @IamOhmai for nominating me for the @WH...   \n",
       "179104  2020! The year of insanity! Lol! #COVID19 http...   \n",
       "179105  @CTVNews A powerful painting by Juan Lucena. I...   \n",
       "179106  More than 1,200 students test positive for #CO...   \n",
       "179107  I stop when I see a Stop\\n\\n@SABCNews\\n@Izinda...   \n",
       "\n",
       "                                 hashtags               source  \n",
       "0                                     NaN   Twitter for iPhone  \n",
       "1                                     NaN  Twitter for Android  \n",
       "2                             ['COVID19']  Twitter for Android  \n",
       "3                             ['COVID19']   Twitter for iPhone  \n",
       "4       ['CoronaVirusUpdates', 'COVID19']  Twitter for Android  \n",
       "...                                   ...                  ...  \n",
       "179103                      ['WearAMask']  Twitter for Android  \n",
       "179104                        ['COVID19']  Twitter for Android  \n",
       "179105                                NaN      Twitter Web App  \n",
       "179106                        ['COVID19']   Twitter for iPhone  \n",
       "179107                                NaN  Twitter for Android  \n",
       "\n",
       "[179108 rows x 4 columns]"
      ]
     },
     "execution_count": 6,
     "metadata": {},
     "output_type": "execute_result"
    }
   ],
   "source": [
    "df_1 = covid19_tweets[['user_location', 'text', 'hashtags', 'source']].copy()\n",
    "df_1"
   ]
  },
  {
   "cell_type": "markdown",
   "metadata": {},
   "source": [
    "# Geospatial distribution of Tweets\n",
    "\n",
    "## Data preparation"
   ]
  },
  {
   "cell_type": "code",
   "execution_count": 7,
   "metadata": {
    "ExecuteTime": {
     "end_time": "2021-02-12T06:52:06.182595Z",
     "start_time": "2021-02-12T06:52:06.154500Z"
    }
   },
   "outputs": [
    {
     "data": {
      "text/plain": [
       "36771"
      ]
     },
     "execution_count": 7,
     "metadata": {},
     "output_type": "execute_result"
    }
   ],
   "source": [
    "df_1[\"user_location\"].isnull().sum()"
   ]
  },
  {
   "cell_type": "code",
   "execution_count": 8,
   "metadata": {
    "ExecuteTime": {
     "end_time": "2021-02-12T06:52:06.211572Z",
     "start_time": "2021-02-12T06:52:06.192336Z"
    }
   },
   "outputs": [
    {
     "data": {
      "text/plain": [
       "0                                            astroworld\n",
       "1                                          New York, NY\n",
       "2                                      Pewee Valley, KY\n",
       "3                                  Stuck in the Middle \n",
       "4                                     Jammu and Kashmir\n",
       "5                                           Новоро́ссия\n",
       "6                                       Gainesville, FL\n",
       "7                                                   NaN\n",
       "8                                                   NaN\n",
       "9                            👇🏻location at link below👇🏻\n",
       "10                                                  NaN\n",
       "11                                     Dhaka,Bangladesh\n",
       "12    Hotel living - various cities!  Who needs a ho...\n",
       "13                                               Africa\n",
       "14                                            New Delhi\n",
       "15                                      Nagaland, India\n",
       "16                                                  NaN\n",
       "17                                             Brussels\n",
       "18                                                  NaN\n",
       "19                                         Florida, USA\n",
       "Name: user_location, dtype: object"
      ]
     },
     "execution_count": 8,
     "metadata": {},
     "output_type": "execute_result"
    }
   ],
   "source": [
    "df_1[\"user_location\"][:20]"
   ]
  },
  {
   "cell_type": "code",
   "execution_count": 9,
   "metadata": {
    "ExecuteTime": {
     "end_time": "2021-02-12T06:52:07.902437Z",
     "start_time": "2021-02-12T06:52:06.269169Z"
    }
   },
   "outputs": [
    {
     "data": {
      "text/plain": [
       "0                                          [astroworld]\n",
       "1                                        [New York, NY]\n",
       "2                                    [Pewee Valley, KY]\n",
       "3                                 [Stuck in the Middle]\n",
       "4                                   [Jammu and Kashmir]\n",
       "5                                         [Новоро́ссия]\n",
       "6                                     [Gainesville, FL]\n",
       "7                                                    []\n",
       "8                                                    []\n",
       "9                          [👇🏻location at link below👇🏻]\n",
       "10                                                   []\n",
       "11                                  [Dhaka, Bangladesh]\n",
       "12    [Hotel living - various cities!  Who needs a h...\n",
       "13                                             [Africa]\n",
       "14                                          [New Delhi]\n",
       "15                                    [Nagaland, India]\n",
       "16                                                   []\n",
       "17                                           [Brussels]\n",
       "18                                                   []\n",
       "19                                       [Florida, USA]\n",
       "Name: location, dtype: object"
      ]
     },
     "execution_count": 9,
     "metadata": {},
     "output_type": "execute_result"
    }
   ],
   "source": [
    "location = df_1[\"user_location\"].fillna(\n",
    "    value='').str.strip().str.split(r'[\\s]*,[\\s]*')\n",
    "df_1['location'] = location\n",
    "df_1['location'][:20]"
   ]
  },
  {
   "cell_type": "code",
   "execution_count": 10,
   "metadata": {
    "ExecuteTime": {
     "end_time": "2021-02-12T06:52:07.934282Z",
     "start_time": "2021-02-12T06:52:07.923692Z"
    }
   },
   "outputs": [
    {
     "name": "stdout",
     "output_type": "stream",
     "text": [
      "['New York', 'NY']\n",
      "['Pewee Valley', 'KY']\n",
      "['Gainesville', 'FL']\n",
      "['Dhaka', 'Bangladesh']\n",
      "['Nagaland', 'India']\n",
      "['Florida', 'USA']\n",
      "['Mumbai', 'India']\n",
      "['Manhattan', 'NY']\n",
      "['Chennai', 'India']\n",
      "['Miami', 'FL']\n",
      "['British Columbia', 'Canada']\n",
      "['Farnham', 'Surrey']\n",
      "['Dorset', 'UK']\n",
      "['Bethesda', 'Maryland']\n",
      "['Cavan', 'Ireland']\n",
      "['Port Elizabeth', 'South Africa']\n",
      "['New Delhi', 'India']\n",
      "['Larose', 'LA']\n",
      "['A-009', 'SEC-68', 'NOIDA']\n",
      "['Baton Rouge', 'USA']\n"
     ]
    }
   ],
   "source": [
    "count = 0\n",
    "for i in range(len(df_1.index)):\n",
    "    if count < 20:\n",
    "        if len(df_1['location'][i]) > 1:\n",
    "            print(df_1['location'][i])\n",
    "            count += 1\n",
    "    else:\n",
    "        break"
   ]
  },
  {
   "cell_type": "markdown",
   "metadata": {},
   "source": [
    "## Importation of the necessary auxiliary data set"
   ]
  },
  {
   "cell_type": "code",
   "execution_count": 11,
   "metadata": {
    "ExecuteTime": {
     "end_time": "2021-02-12T06:52:08.275805Z",
     "start_time": "2021-02-12T06:52:07.938901Z"
    }
   },
   "outputs": [
    {
     "data": {
      "text/html": [
       "<div>\n",
       "<style scoped>\n",
       "    .dataframe tbody tr th:only-of-type {\n",
       "        vertical-align: middle;\n",
       "    }\n",
       "\n",
       "    .dataframe tbody tr th {\n",
       "        vertical-align: top;\n",
       "    }\n",
       "\n",
       "    .dataframe thead th {\n",
       "        text-align: right;\n",
       "    }\n",
       "</style>\n",
       "<table border=\"1\" class=\"dataframe\">\n",
       "  <thead>\n",
       "    <tr style=\"text-align: right;\">\n",
       "      <th></th>\n",
       "      <th>city</th>\n",
       "      <th>city_ascii</th>\n",
       "      <th>lat</th>\n",
       "      <th>lng</th>\n",
       "      <th>country</th>\n",
       "      <th>iso2</th>\n",
       "      <th>iso3</th>\n",
       "      <th>admin_name</th>\n",
       "      <th>capital</th>\n",
       "      <th>population</th>\n",
       "      <th>id</th>\n",
       "    </tr>\n",
       "  </thead>\n",
       "  <tbody>\n",
       "    <tr>\n",
       "      <th>0</th>\n",
       "      <td>Tokyo</td>\n",
       "      <td>Tokyo</td>\n",
       "      <td>35.6897</td>\n",
       "      <td>139.6922</td>\n",
       "      <td>Japan</td>\n",
       "      <td>JP</td>\n",
       "      <td>JPN</td>\n",
       "      <td>Tōkyō</td>\n",
       "      <td>primary</td>\n",
       "      <td>37977000.0</td>\n",
       "      <td>1392685764</td>\n",
       "    </tr>\n",
       "    <tr>\n",
       "      <th>1</th>\n",
       "      <td>Jakarta</td>\n",
       "      <td>Jakarta</td>\n",
       "      <td>-6.2146</td>\n",
       "      <td>106.8451</td>\n",
       "      <td>Indonesia</td>\n",
       "      <td>ID</td>\n",
       "      <td>IDN</td>\n",
       "      <td>Jakarta</td>\n",
       "      <td>primary</td>\n",
       "      <td>34540000.0</td>\n",
       "      <td>1360771077</td>\n",
       "    </tr>\n",
       "    <tr>\n",
       "      <th>2</th>\n",
       "      <td>Delhi</td>\n",
       "      <td>Delhi</td>\n",
       "      <td>28.6600</td>\n",
       "      <td>77.2300</td>\n",
       "      <td>India</td>\n",
       "      <td>IN</td>\n",
       "      <td>IND</td>\n",
       "      <td>Delhi</td>\n",
       "      <td>admin</td>\n",
       "      <td>29617000.0</td>\n",
       "      <td>1356872604</td>\n",
       "    </tr>\n",
       "    <tr>\n",
       "      <th>3</th>\n",
       "      <td>Mumbai</td>\n",
       "      <td>Mumbai</td>\n",
       "      <td>18.9667</td>\n",
       "      <td>72.8333</td>\n",
       "      <td>India</td>\n",
       "      <td>IN</td>\n",
       "      <td>IND</td>\n",
       "      <td>Mahārāshtra</td>\n",
       "      <td>admin</td>\n",
       "      <td>23355000.0</td>\n",
       "      <td>1356226629</td>\n",
       "    </tr>\n",
       "    <tr>\n",
       "      <th>4</th>\n",
       "      <td>Manila</td>\n",
       "      <td>Manila</td>\n",
       "      <td>14.5958</td>\n",
       "      <td>120.9772</td>\n",
       "      <td>Philippines</td>\n",
       "      <td>PH</td>\n",
       "      <td>PHL</td>\n",
       "      <td>Manila</td>\n",
       "      <td>primary</td>\n",
       "      <td>23088000.0</td>\n",
       "      <td>1608618140</td>\n",
       "    </tr>\n",
       "  </tbody>\n",
       "</table>\n",
       "</div>"
      ],
      "text/plain": [
       "      city city_ascii      lat       lng      country iso2 iso3   admin_name  \\\n",
       "0    Tokyo      Tokyo  35.6897  139.6922        Japan   JP  JPN        Tōkyō   \n",
       "1  Jakarta    Jakarta  -6.2146  106.8451    Indonesia   ID  IDN      Jakarta   \n",
       "2    Delhi      Delhi  28.6600   77.2300        India   IN  IND        Delhi   \n",
       "3   Mumbai     Mumbai  18.9667   72.8333        India   IN  IND  Mahārāshtra   \n",
       "4   Manila     Manila  14.5958  120.9772  Philippines   PH  PHL       Manila   \n",
       "\n",
       "   capital  population          id  \n",
       "0  primary  37977000.0  1392685764  \n",
       "1  primary  34540000.0  1360771077  \n",
       "2    admin  29617000.0  1356872604  \n",
       "3    admin  23355000.0  1356226629  \n",
       "4  primary  23088000.0  1608618140  "
      ]
     },
     "execution_count": 11,
     "metadata": {},
     "output_type": "execute_result"
    }
   ],
   "source": [
    "# URL: https://www.kaggle.com/max-mind/world-cities-database\n",
    "world_cities = pd.read_csv('world_cities.csv')\n",
    "\n",
    "world_cities.head()"
   ]
  },
  {
   "cell_type": "code",
   "execution_count": 12,
   "metadata": {
    "ExecuteTime": {
     "end_time": "2021-02-12T06:52:08.293886Z",
     "start_time": "2021-02-12T06:52:08.284807Z"
    }
   },
   "outputs": [
    {
     "data": {
      "text/plain": [
       "(26569, 11)"
      ]
     },
     "execution_count": 12,
     "metadata": {},
     "output_type": "execute_result"
    }
   ],
   "source": [
    "world_cities.shape"
   ]
  },
  {
   "cell_type": "code",
   "execution_count": 13,
   "metadata": {
    "ExecuteTime": {
     "end_time": "2021-02-12T06:52:08.368899Z",
     "start_time": "2021-02-12T06:52:08.301686Z"
    }
   },
   "outputs": [
    {
     "name": "stdout",
     "output_type": "stream",
     "text": [
      "<class 'pandas.core.frame.DataFrame'>\n",
      "RangeIndex: 26569 entries, 0 to 26568\n",
      "Data columns (total 11 columns):\n",
      " #   Column      Non-Null Count  Dtype  \n",
      "---  ------      --------------  -----  \n",
      " 0   city        26569 non-null  object \n",
      " 1   city_ascii  26569 non-null  object \n",
      " 2   lat         26569 non-null  float64\n",
      " 3   lng         26569 non-null  float64\n",
      " 4   country     26569 non-null  object \n",
      " 5   iso2        26538 non-null  object \n",
      " 6   iso3        26569 non-null  object \n",
      " 7   admin_name  26493 non-null  object \n",
      " 8   capital     7626 non-null   object \n",
      " 9   population  25596 non-null  float64\n",
      " 10  id          26569 non-null  int64  \n",
      "dtypes: float64(3), int64(1), object(7)\n",
      "memory usage: 2.2+ MB\n"
     ]
    }
   ],
   "source": [
    "world_cities.info()"
   ]
  },
  {
   "cell_type": "code",
   "execution_count": 14,
   "metadata": {
    "ExecuteTime": {
     "end_time": "2021-02-12T06:52:08.397288Z",
     "start_time": "2021-02-12T06:52:08.384312Z"
    }
   },
   "outputs": [
    {
     "data": {
      "text/plain": [
       "Index(['city', 'city_ascii', 'lat', 'lng', 'country', 'iso2', 'iso3',\n",
       "       'admin_name', 'capital', 'population', 'id'],\n",
       "      dtype='object')"
      ]
     },
     "execution_count": 14,
     "metadata": {},
     "output_type": "execute_result"
    }
   ],
   "source": [
    "world_cities.columns"
   ]
  },
  {
   "cell_type": "code",
   "execution_count": 15,
   "metadata": {
    "ExecuteTime": {
     "end_time": "2021-02-12T06:52:08.506128Z",
     "start_time": "2021-02-12T06:52:08.414471Z"
    }
   },
   "outputs": [
    {
     "data": {
      "text/html": [
       "<div>\n",
       "<style scoped>\n",
       "    .dataframe tbody tr th:only-of-type {\n",
       "        vertical-align: middle;\n",
       "    }\n",
       "\n",
       "    .dataframe tbody tr th {\n",
       "        vertical-align: top;\n",
       "    }\n",
       "\n",
       "    .dataframe thead th {\n",
       "        text-align: right;\n",
       "    }\n",
       "</style>\n",
       "<table border=\"1\" class=\"dataframe\">\n",
       "  <thead>\n",
       "    <tr style=\"text-align: right;\">\n",
       "      <th></th>\n",
       "      <th>city</th>\n",
       "      <th>lat</th>\n",
       "      <th>lng</th>\n",
       "      <th>country</th>\n",
       "      <th>iso2</th>\n",
       "      <th>iso3</th>\n",
       "      <th>admin_name</th>\n",
       "    </tr>\n",
       "  </thead>\n",
       "  <tbody>\n",
       "    <tr>\n",
       "      <th>0</th>\n",
       "      <td>Tokyo</td>\n",
       "      <td>35.6897</td>\n",
       "      <td>139.6922</td>\n",
       "      <td>Japan</td>\n",
       "      <td>JP</td>\n",
       "      <td>JPN</td>\n",
       "      <td>Tōkyō</td>\n",
       "    </tr>\n",
       "    <tr>\n",
       "      <th>1</th>\n",
       "      <td>Jakarta</td>\n",
       "      <td>-6.2146</td>\n",
       "      <td>106.8451</td>\n",
       "      <td>Indonesia</td>\n",
       "      <td>ID</td>\n",
       "      <td>IDN</td>\n",
       "      <td>Jakarta</td>\n",
       "    </tr>\n",
       "    <tr>\n",
       "      <th>2</th>\n",
       "      <td>Delhi</td>\n",
       "      <td>28.6600</td>\n",
       "      <td>77.2300</td>\n",
       "      <td>India</td>\n",
       "      <td>IN</td>\n",
       "      <td>IND</td>\n",
       "      <td>Delhi</td>\n",
       "    </tr>\n",
       "    <tr>\n",
       "      <th>3</th>\n",
       "      <td>Mumbai</td>\n",
       "      <td>18.9667</td>\n",
       "      <td>72.8333</td>\n",
       "      <td>India</td>\n",
       "      <td>IN</td>\n",
       "      <td>IND</td>\n",
       "      <td>Mahārāshtra</td>\n",
       "    </tr>\n",
       "    <tr>\n",
       "      <th>4</th>\n",
       "      <td>Manila</td>\n",
       "      <td>14.5958</td>\n",
       "      <td>120.9772</td>\n",
       "      <td>Philippines</td>\n",
       "      <td>PH</td>\n",
       "      <td>PHL</td>\n",
       "      <td>Manila</td>\n",
       "    </tr>\n",
       "    <tr>\n",
       "      <th>...</th>\n",
       "      <td>...</td>\n",
       "      <td>...</td>\n",
       "      <td>...</td>\n",
       "      <td>...</td>\n",
       "      <td>...</td>\n",
       "      <td>...</td>\n",
       "      <td>...</td>\n",
       "    </tr>\n",
       "    <tr>\n",
       "      <th>26564</th>\n",
       "      <td>Nord</td>\n",
       "      <td>81.7166</td>\n",
       "      <td>-17.8000</td>\n",
       "      <td>Greenland</td>\n",
       "      <td>GL</td>\n",
       "      <td>GRL</td>\n",
       "      <td>Sermersooq</td>\n",
       "    </tr>\n",
       "    <tr>\n",
       "      <th>26565</th>\n",
       "      <td>Timmiarmiut</td>\n",
       "      <td>62.5333</td>\n",
       "      <td>-42.2167</td>\n",
       "      <td>Greenland</td>\n",
       "      <td>GL</td>\n",
       "      <td>GRL</td>\n",
       "      <td>Kujalleq</td>\n",
       "    </tr>\n",
       "    <tr>\n",
       "      <th>26566</th>\n",
       "      <td>Cheremoshna</td>\n",
       "      <td>51.3894</td>\n",
       "      <td>30.0989</td>\n",
       "      <td>Ukraine</td>\n",
       "      <td>UA</td>\n",
       "      <td>UKR</td>\n",
       "      <td>Kyyivs’ka Oblast’</td>\n",
       "    </tr>\n",
       "    <tr>\n",
       "      <th>26567</th>\n",
       "      <td>Ambarchik</td>\n",
       "      <td>69.6510</td>\n",
       "      <td>162.3336</td>\n",
       "      <td>Russia</td>\n",
       "      <td>RU</td>\n",
       "      <td>RUS</td>\n",
       "      <td>Sakha (Yakutiya)</td>\n",
       "    </tr>\n",
       "    <tr>\n",
       "      <th>26568</th>\n",
       "      <td>Nordvik</td>\n",
       "      <td>74.0165</td>\n",
       "      <td>111.5100</td>\n",
       "      <td>Russia</td>\n",
       "      <td>RU</td>\n",
       "      <td>RUS</td>\n",
       "      <td>Krasnoyarskiy Kray</td>\n",
       "    </tr>\n",
       "  </tbody>\n",
       "</table>\n",
       "<p>26569 rows × 7 columns</p>\n",
       "</div>"
      ],
      "text/plain": [
       "              city      lat       lng      country iso2 iso3  \\\n",
       "0            Tokyo  35.6897  139.6922        Japan   JP  JPN   \n",
       "1          Jakarta  -6.2146  106.8451    Indonesia   ID  IDN   \n",
       "2            Delhi  28.6600   77.2300        India   IN  IND   \n",
       "3           Mumbai  18.9667   72.8333        India   IN  IND   \n",
       "4           Manila  14.5958  120.9772  Philippines   PH  PHL   \n",
       "...            ...      ...       ...          ...  ...  ...   \n",
       "26564         Nord  81.7166  -17.8000    Greenland   GL  GRL   \n",
       "26565  Timmiarmiut  62.5333  -42.2167    Greenland   GL  GRL   \n",
       "26566  Cheremoshna  51.3894   30.0989      Ukraine   UA  UKR   \n",
       "26567    Ambarchik  69.6510  162.3336       Russia   RU  RUS   \n",
       "26568      Nordvik  74.0165  111.5100       Russia   RU  RUS   \n",
       "\n",
       "               admin_name  \n",
       "0                   Tōkyō  \n",
       "1                 Jakarta  \n",
       "2                   Delhi  \n",
       "3             Mahārāshtra  \n",
       "4                  Manila  \n",
       "...                   ...  \n",
       "26564          Sermersooq  \n",
       "26565            Kujalleq  \n",
       "26566   Kyyivs’ka Oblast’  \n",
       "26567    Sakha (Yakutiya)  \n",
       "26568  Krasnoyarskiy Kray  \n",
       "\n",
       "[26569 rows x 7 columns]"
      ]
     },
     "execution_count": 15,
     "metadata": {},
     "output_type": "execute_result"
    }
   ],
   "source": [
    "df_2 = world_cities[[\n",
    "    'city', 'lat', 'lng', 'country', 'iso2', 'iso3', 'admin_name'\n",
    "]].copy()\n",
    "df_2"
   ]
  },
  {
   "cell_type": "code",
   "execution_count": 16,
   "metadata": {
    "ExecuteTime": {
     "end_time": "2021-02-12T06:52:08.574362Z",
     "start_time": "2021-02-12T06:52:08.519233Z"
    }
   },
   "outputs": [
    {
     "data": {
      "text/html": [
       "<div>\n",
       "<style scoped>\n",
       "    .dataframe tbody tr th:only-of-type {\n",
       "        vertical-align: middle;\n",
       "    }\n",
       "\n",
       "    .dataframe tbody tr th {\n",
       "        vertical-align: top;\n",
       "    }\n",
       "\n",
       "    .dataframe thead th {\n",
       "        text-align: right;\n",
       "    }\n",
       "</style>\n",
       "<table border=\"1\" class=\"dataframe\">\n",
       "  <thead>\n",
       "    <tr style=\"text-align: right;\">\n",
       "      <th></th>\n",
       "      <th>Country</th>\n",
       "      <th>Alpha-2 code</th>\n",
       "      <th>Alpha-3 code</th>\n",
       "      <th>Numeric code</th>\n",
       "      <th>Latitude (average)</th>\n",
       "      <th>Longitude (average)</th>\n",
       "    </tr>\n",
       "  </thead>\n",
       "  <tbody>\n",
       "    <tr>\n",
       "      <th>0</th>\n",
       "      <td>Afghanistan</td>\n",
       "      <td>\"AF\"</td>\n",
       "      <td>\"AFG\"</td>\n",
       "      <td>\"4\"</td>\n",
       "      <td>\"33\"</td>\n",
       "      <td>\"65\"</td>\n",
       "    </tr>\n",
       "    <tr>\n",
       "      <th>1</th>\n",
       "      <td>Albania</td>\n",
       "      <td>\"AL\"</td>\n",
       "      <td>\"ALB\"</td>\n",
       "      <td>\"8\"</td>\n",
       "      <td>\"41\"</td>\n",
       "      <td>\"20\"</td>\n",
       "    </tr>\n",
       "    <tr>\n",
       "      <th>2</th>\n",
       "      <td>Algeria</td>\n",
       "      <td>\"DZ\"</td>\n",
       "      <td>\"DZA\"</td>\n",
       "      <td>\"12\"</td>\n",
       "      <td>\"28\"</td>\n",
       "      <td>\"3\"</td>\n",
       "    </tr>\n",
       "    <tr>\n",
       "      <th>3</th>\n",
       "      <td>American Samoa</td>\n",
       "      <td>\"AS\"</td>\n",
       "      <td>\"ASM\"</td>\n",
       "      <td>\"16\"</td>\n",
       "      <td>\"-14.3333\"</td>\n",
       "      <td>\"-170\"</td>\n",
       "    </tr>\n",
       "    <tr>\n",
       "      <th>4</th>\n",
       "      <td>Andorra</td>\n",
       "      <td>\"AD\"</td>\n",
       "      <td>\"AND\"</td>\n",
       "      <td>\"20\"</td>\n",
       "      <td>\"42.5\"</td>\n",
       "      <td>\"1.6\"</td>\n",
       "    </tr>\n",
       "  </tbody>\n",
       "</table>\n",
       "</div>"
      ],
      "text/plain": [
       "          Country Alpha-2 code Alpha-3 code Numeric code Latitude (average)  \\\n",
       "0     Afghanistan         \"AF\"        \"AFG\"          \"4\"               \"33\"   \n",
       "1         Albania         \"AL\"        \"ALB\"          \"8\"               \"41\"   \n",
       "2         Algeria         \"DZ\"        \"DZA\"         \"12\"               \"28\"   \n",
       "3  American Samoa         \"AS\"        \"ASM\"         \"16\"         \"-14.3333\"   \n",
       "4         Andorra         \"AD\"        \"AND\"         \"20\"             \"42.5\"   \n",
       "\n",
       "  Longitude (average)  \n",
       "0                \"65\"  \n",
       "1                \"20\"  \n",
       "2                 \"3\"  \n",
       "3              \"-170\"  \n",
       "4               \"1.6\"  "
      ]
     },
     "execution_count": 16,
     "metadata": {},
     "output_type": "execute_result"
    }
   ],
   "source": [
    "# https://gist.github.com/tadast/8827699\n",
    "countries_codes_and_coordinates = pd.read_csv(\n",
    "    'countries_codes_and_coordinates.csv')\n",
    "\n",
    "countries_codes_and_coordinates.head()"
   ]
  },
  {
   "cell_type": "code",
   "execution_count": 17,
   "metadata": {
    "ExecuteTime": {
     "end_time": "2021-02-12T06:52:08.592181Z",
     "start_time": "2021-02-12T06:52:08.583393Z"
    }
   },
   "outputs": [
    {
     "data": {
      "text/plain": [
       "(256, 6)"
      ]
     },
     "execution_count": 17,
     "metadata": {},
     "output_type": "execute_result"
    }
   ],
   "source": [
    "countries_codes_and_coordinates.shape"
   ]
  },
  {
   "cell_type": "code",
   "execution_count": 18,
   "metadata": {
    "ExecuteTime": {
     "end_time": "2021-02-12T06:52:08.630383Z",
     "start_time": "2021-02-12T06:52:08.602296Z"
    }
   },
   "outputs": [
    {
     "name": "stdout",
     "output_type": "stream",
     "text": [
      "<class 'pandas.core.frame.DataFrame'>\n",
      "RangeIndex: 256 entries, 0 to 255\n",
      "Data columns (total 6 columns):\n",
      " #   Column               Non-Null Count  Dtype \n",
      "---  ------               --------------  ----- \n",
      " 0   Country              256 non-null    object\n",
      " 1   Alpha-2 code         256 non-null    object\n",
      " 2   Alpha-3 code         256 non-null    object\n",
      " 3   Numeric code         256 non-null    object\n",
      " 4   Latitude (average)   256 non-null    object\n",
      " 5   Longitude (average)  256 non-null    object\n",
      "dtypes: object(6)\n",
      "memory usage: 12.1+ KB\n"
     ]
    }
   ],
   "source": [
    "countries_codes_and_coordinates.info()"
   ]
  },
  {
   "cell_type": "code",
   "execution_count": 19,
   "metadata": {
    "ExecuteTime": {
     "end_time": "2021-02-12T06:52:08.651540Z",
     "start_time": "2021-02-12T06:52:08.636725Z"
    }
   },
   "outputs": [
    {
     "data": {
      "text/plain": [
       "Index(['Country', 'Alpha-2 code', 'Alpha-3 code', 'Numeric code',\n",
       "       'Latitude (average)', 'Longitude (average)'],\n",
       "      dtype='object')"
      ]
     },
     "execution_count": 19,
     "metadata": {},
     "output_type": "execute_result"
    }
   ],
   "source": [
    "countries_codes_and_coordinates.columns"
   ]
  },
  {
   "cell_type": "code",
   "execution_count": 20,
   "metadata": {
    "ExecuteTime": {
     "end_time": "2021-02-12T06:52:08.701122Z",
     "start_time": "2021-02-12T06:52:08.662879Z"
    }
   },
   "outputs": [
    {
     "data": {
      "text/html": [
       "<div>\n",
       "<style scoped>\n",
       "    .dataframe tbody tr th:only-of-type {\n",
       "        vertical-align: middle;\n",
       "    }\n",
       "\n",
       "    .dataframe tbody tr th {\n",
       "        vertical-align: top;\n",
       "    }\n",
       "\n",
       "    .dataframe thead th {\n",
       "        text-align: right;\n",
       "    }\n",
       "</style>\n",
       "<table border=\"1\" class=\"dataframe\">\n",
       "  <thead>\n",
       "    <tr style=\"text-align: right;\">\n",
       "      <th></th>\n",
       "      <th>Alpha-2 code</th>\n",
       "      <th>Latitude (average)</th>\n",
       "      <th>Longitude (average)</th>\n",
       "    </tr>\n",
       "  </thead>\n",
       "  <tbody>\n",
       "    <tr>\n",
       "      <th>0</th>\n",
       "      <td>\"AF\"</td>\n",
       "      <td>\"33\"</td>\n",
       "      <td>\"65\"</td>\n",
       "    </tr>\n",
       "    <tr>\n",
       "      <th>1</th>\n",
       "      <td>\"AL\"</td>\n",
       "      <td>\"41\"</td>\n",
       "      <td>\"20\"</td>\n",
       "    </tr>\n",
       "    <tr>\n",
       "      <th>2</th>\n",
       "      <td>\"DZ\"</td>\n",
       "      <td>\"28\"</td>\n",
       "      <td>\"3\"</td>\n",
       "    </tr>\n",
       "    <tr>\n",
       "      <th>3</th>\n",
       "      <td>\"AS\"</td>\n",
       "      <td>\"-14.3333\"</td>\n",
       "      <td>\"-170\"</td>\n",
       "    </tr>\n",
       "    <tr>\n",
       "      <th>4</th>\n",
       "      <td>\"AD\"</td>\n",
       "      <td>\"42.5\"</td>\n",
       "      <td>\"1.6\"</td>\n",
       "    </tr>\n",
       "    <tr>\n",
       "      <th>...</th>\n",
       "      <td>...</td>\n",
       "      <td>...</td>\n",
       "      <td>...</td>\n",
       "    </tr>\n",
       "    <tr>\n",
       "      <th>251</th>\n",
       "      <td>\"WF\"</td>\n",
       "      <td>\"-13.3\"</td>\n",
       "      <td>\"-176.2\"</td>\n",
       "    </tr>\n",
       "    <tr>\n",
       "      <th>252</th>\n",
       "      <td>\"EH\"</td>\n",
       "      <td>\"24.5\"</td>\n",
       "      <td>\"-13\"</td>\n",
       "    </tr>\n",
       "    <tr>\n",
       "      <th>253</th>\n",
       "      <td>\"YE\"</td>\n",
       "      <td>\"15\"</td>\n",
       "      <td>\"48\"</td>\n",
       "    </tr>\n",
       "    <tr>\n",
       "      <th>254</th>\n",
       "      <td>\"ZM\"</td>\n",
       "      <td>\"-15\"</td>\n",
       "      <td>\"30\"</td>\n",
       "    </tr>\n",
       "    <tr>\n",
       "      <th>255</th>\n",
       "      <td>\"ZW\"</td>\n",
       "      <td>\"-20\"</td>\n",
       "      <td>\"30\"</td>\n",
       "    </tr>\n",
       "  </tbody>\n",
       "</table>\n",
       "<p>256 rows × 3 columns</p>\n",
       "</div>"
      ],
      "text/plain": [
       "    Alpha-2 code Latitude (average) Longitude (average)\n",
       "0           \"AF\"               \"33\"                \"65\"\n",
       "1           \"AL\"               \"41\"                \"20\"\n",
       "2           \"DZ\"               \"28\"                 \"3\"\n",
       "3           \"AS\"         \"-14.3333\"              \"-170\"\n",
       "4           \"AD\"             \"42.5\"               \"1.6\"\n",
       "..           ...                ...                 ...\n",
       "251         \"WF\"            \"-13.3\"            \"-176.2\"\n",
       "252         \"EH\"             \"24.5\"               \"-13\"\n",
       "253         \"YE\"               \"15\"                \"48\"\n",
       "254         \"ZM\"              \"-15\"                \"30\"\n",
       "255         \"ZW\"              \"-20\"                \"30\"\n",
       "\n",
       "[256 rows x 3 columns]"
      ]
     },
     "execution_count": 20,
     "metadata": {},
     "output_type": "execute_result"
    }
   ],
   "source": [
    "df_3 = countries_codes_and_coordinates[[\n",
    "    'Alpha-2 code', 'Latitude (average)', 'Longitude (average)'\n",
    "]].copy()\n",
    "df_3"
   ]
  },
  {
   "cell_type": "markdown",
   "metadata": {},
   "source": [
    "## Preparation of the geographic information between data sets"
   ]
  },
  {
   "cell_type": "code",
   "execution_count": 21,
   "metadata": {
    "ExecuteTime": {
     "end_time": "2021-02-12T06:52:08.862327Z",
     "start_time": "2021-02-12T06:52:08.712314Z"
    }
   },
   "outputs": [
    {
     "data": {
      "text/plain": [
       "224"
      ]
     },
     "execution_count": 21,
     "metadata": {},
     "output_type": "execute_result"
    }
   ],
   "source": [
    "df_2_iso_2 = []\n",
    "\n",
    "[\n",
    "    df_2_iso_2.append(code)\n",
    "    for code in df_2['iso2'].str.lower().str.strip().to_list()\n",
    "    if code not in df_2_iso_2\n",
    "]\n",
    "\n",
    "len(df_2_iso_2)"
   ]
  },
  {
   "cell_type": "code",
   "execution_count": 22,
   "metadata": {
    "ExecuteTime": {
     "end_time": "2021-02-12T06:52:09.016233Z",
     "start_time": "2021-02-12T06:52:08.992506Z"
    }
   },
   "outputs": [
    {
     "data": {
      "text/plain": [
       "244"
      ]
     },
     "execution_count": 22,
     "metadata": {},
     "output_type": "execute_result"
    }
   ],
   "source": [
    "df_3_alpha_2 = []\n",
    "\n",
    "[\n",
    "    df_3_alpha_2.append(code)\n",
    "    for code in df_3['Alpha-2 code'].str.lower().str.replace(\n",
    "        '\"', '').str.strip().to_list() if code not in df_3_alpha_2\n",
    "]\n",
    "\n",
    "len(df_3_alpha_2)"
   ]
  },
  {
   "cell_type": "code",
   "execution_count": 23,
   "metadata": {
    "ExecuteTime": {
     "end_time": "2021-02-12T06:52:09.081100Z",
     "start_time": "2021-02-12T06:52:09.061543Z"
    }
   },
   "outputs": [
    {
     "data": {
      "text/plain": [
       "[nan, 'xk', 'xw', 'cw']"
      ]
     },
     "execution_count": 23,
     "metadata": {},
     "output_type": "execute_result"
    }
   ],
   "source": [
    "[\n",
    "    missing_code for missing_code in df_2_iso_2\n",
    "    if missing_code not in df_3_alpha_2\n",
    "]"
   ]
  },
  {
   "cell_type": "code",
   "execution_count": 24,
   "metadata": {
    "ExecuteTime": {
     "end_time": "2021-02-12T06:52:09.119935Z",
     "start_time": "2021-02-12T06:52:09.100268Z"
    }
   },
   "outputs": [
    {
     "data": {
      "text/plain": [
       "245"
      ]
     },
     "execution_count": 24,
     "metadata": {},
     "output_type": "execute_result"
    }
   ],
   "source": [
    "# URL: https://developers.google.com/public-data/docs/canonical/countries_csv\n",
    "# 'xk': 'Kosovo'\n",
    "# 'xw': Not found\n",
    "# 'cw': Not found\n",
    "df_3_alpha_2 = df_3_alpha_2 + ['xk']\n",
    "len(df_3_alpha_2)"
   ]
  },
  {
   "cell_type": "code",
   "execution_count": 25,
   "metadata": {
    "ExecuteTime": {
     "end_time": "2021-02-12T06:52:09.154157Z",
     "start_time": "2021-02-12T06:52:09.129554Z"
    }
   },
   "outputs": [
    {
     "data": {
      "text/plain": [
       "257"
      ]
     },
     "execution_count": 25,
     "metadata": {},
     "output_type": "execute_result"
    }
   ],
   "source": [
    "df_3_lat = df_3['Latitude (average)'].str.replace(\n",
    "    '\"', '').str.strip().to_list() + ['42.602636']\n",
    "len(df_3_lat)"
   ]
  },
  {
   "cell_type": "code",
   "execution_count": 26,
   "metadata": {
    "ExecuteTime": {
     "end_time": "2021-02-12T06:52:09.185075Z",
     "start_time": "2021-02-12T06:52:09.172295Z"
    }
   },
   "outputs": [
    {
     "data": {
      "text/plain": [
       "257"
      ]
     },
     "execution_count": 26,
     "metadata": {},
     "output_type": "execute_result"
    }
   ],
   "source": [
    "df_3_lng = df_3['Longitude (average)'].str.replace(\n",
    "    '\"', '').str.strip().to_list() + ['20.902977']\n",
    "len(df_3_lng)"
   ]
  },
  {
   "cell_type": "code",
   "execution_count": 27,
   "metadata": {
    "ExecuteTime": {
     "end_time": "2021-02-12T06:52:09.292470Z",
     "start_time": "2021-02-12T06:52:09.192044Z"
    }
   },
   "outputs": [
    {
     "data": {
      "text/plain": [
       "224"
      ]
     },
     "execution_count": 27,
     "metadata": {},
     "output_type": "execute_result"
    }
   ],
   "source": [
    "df_2_iso_3 = []\n",
    "\n",
    "[\n",
    "    df_2_iso_3.append(code)\n",
    "    for code in df_2['iso3'].str.lower().str.strip().to_list()\n",
    "    if code not in df_2_iso_3\n",
    "]\n",
    "\n",
    "len(df_2_iso_2)"
   ]
  },
  {
   "cell_type": "code",
   "execution_count": 28,
   "metadata": {
    "ExecuteTime": {
     "end_time": "2021-02-12T06:52:09.413233Z",
     "start_time": "2021-02-12T06:52:09.304894Z"
    }
   },
   "outputs": [
    {
     "data": {
      "text/plain": [
       "224"
      ]
     },
     "execution_count": 28,
     "metadata": {},
     "output_type": "execute_result"
    }
   ],
   "source": [
    "df_2_country = []\n",
    "\n",
    "[\n",
    "    df_2_country.append(code)\n",
    "    for code in df_2['country'].str.lower().str.strip().to_list()\n",
    "    if code not in df_2_country\n",
    "]\n",
    "\n",
    "len(df_2_country)"
   ]
  },
  {
   "cell_type": "code",
   "execution_count": 29,
   "metadata": {
    "ExecuteTime": {
     "end_time": "2021-02-12T06:52:09.484732Z",
     "start_time": "2021-02-12T06:52:09.432118Z"
    }
   },
   "outputs": [
    {
     "data": {
      "text/plain": [
       "26569"
      ]
     },
     "execution_count": 29,
     "metadata": {},
     "output_type": "execute_result"
    }
   ],
   "source": [
    "df_2_admin_name = df_2['admin_name'].fillna(\n",
    "    value='').str.lower().str.strip().to_list()\n",
    "len(df_2_admin_name)"
   ]
  },
  {
   "cell_type": "code",
   "execution_count": 30,
   "metadata": {
    "ExecuteTime": {
     "end_time": "2021-02-12T06:52:09.597563Z",
     "start_time": "2021-02-12T06:52:09.499316Z"
    }
   },
   "outputs": [
    {
     "data": {
      "text/plain": [
       "26569"
      ]
     },
     "execution_count": 30,
     "metadata": {},
     "output_type": "execute_result"
    }
   ],
   "source": [
    "df_2_city = df_2['city'].fillna(value='').str.lower().str.strip().to_list()\n",
    "len(df_2_city)"
   ]
  },
  {
   "cell_type": "code",
   "execution_count": 31,
   "metadata": {
    "ExecuteTime": {
     "end_time": "2021-02-12T06:52:09.627383Z",
     "start_time": "2021-02-12T06:52:09.607175Z"
    }
   },
   "outputs": [
    {
     "data": {
      "text/plain": [
       "26569"
      ]
     },
     "execution_count": 31,
     "metadata": {},
     "output_type": "execute_result"
    }
   ],
   "source": [
    "df_2_lat = df_2['lat'].fillna(value='').to_list()\n",
    "len(df_2_lat)"
   ]
  },
  {
   "cell_type": "code",
   "execution_count": 32,
   "metadata": {
    "ExecuteTime": {
     "end_time": "2021-02-12T06:52:09.676883Z",
     "start_time": "2021-02-12T06:52:09.639345Z"
    }
   },
   "outputs": [
    {
     "data": {
      "text/plain": [
       "26569"
      ]
     },
     "execution_count": 32,
     "metadata": {},
     "output_type": "execute_result"
    }
   ],
   "source": [
    "df_2_lng = df_2['lng'].fillna(value='').to_list()\n",
    "len(df_2_lng)"
   ]
  },
  {
   "cell_type": "markdown",
   "metadata": {},
   "source": [
    "## Data mapping among the datasets"
   ]
  },
  {
   "cell_type": "code",
   "execution_count": 33,
   "metadata": {
    "ExecuteTime": {
     "end_time": "2021-02-12T07:18:33.983505Z",
     "start_time": "2021-02-12T06:52:09.720893Z"
    }
   },
   "outputs": [],
   "source": [
    "pd.options.mode.chained_assignment = None\n",
    "\n",
    "df_1[\"lat\"] = np.NaN\n",
    "df_1[\"lng\"] = np.NaN\n",
    "\n",
    "for i in range(len(location)):\n",
    "\n",
    "    if location[i] != ['']:\n",
    "\n",
    "        order = [False, False, False, False, False]\n",
    "        each_location = location[i]\n",
    "\n",
    "        for each in each_location:\n",
    "            each = each.lower().strip()\n",
    "            if each in df_2_city:\n",
    "                order[0] = df_2_city.index(each)\n",
    "            if each in df_2_admin_name:\n",
    "                order[1] = df_2_admin_name.index(each)\n",
    "            if each in df_2_country:\n",
    "                order[2] = df_2_country.index(each)\n",
    "            if each in df_2_iso_2:\n",
    "                order[3] = df_2_iso_2.index(each)\n",
    "            if each in df_2_iso_3:\n",
    "                order[4] = df_2_iso_3.index(each)\n",
    "\n",
    "        if order[0]:\n",
    "            df_1['lat'].iloc[i] = df_2_lat[order[0]]\n",
    "            df_1['lng'].iloc[i] = df_2_lng[order[0]]\n",
    "            continue\n",
    "        if order[1]:\n",
    "            df_1['lat'].iloc[i] = df_2_lat[order[1]]\n",
    "            df_1['lng'].iloc[i] = df_2_lng[order[1]]\n",
    "            continue\n",
    "        if order[2]:\n",
    "            try:\n",
    "                df_1['lat'].iloc[i] = df_3_lat[df_3_alpha_2.index(\n",
    "                    df_2_iso_2[order[2]])]\n",
    "                df_1['lng'].iloc[i] = df_3_lng[df_3_alpha_2.index(\n",
    "                    df_2_iso_2[order[2]])]\n",
    "            except:\n",
    "                pass\n",
    "            continue\n",
    "        if order[3]:\n",
    "            df_1['lat'].iloc[i] = df_3_lat[df_3_alpha_2.index(\n",
    "                df_2_iso_2[order[3]])]\n",
    "            df_1['lng'].iloc[i] = df_3_lng[df_3_alpha_2.index(\n",
    "                df_2_iso_2[order[3]])]\n",
    "            continue\n",
    "        if order[4]:\n",
    "            df_1['lat'].iloc[i] = df_3_lat[df_3_alpha_2.index(\n",
    "                df_2_iso_2[order[4]])]\n",
    "            df_1['lng'].iloc[i] = df_3_lng[df_3_alpha_2.index(\n",
    "                df_2_iso_2[order[4]])]\n",
    "            continue\n",
    "    else:\n",
    "        continue"
   ]
  },
  {
   "cell_type": "code",
   "execution_count": 34,
   "metadata": {
    "ExecuteTime": {
     "end_time": "2021-02-12T07:18:34.782984Z",
     "start_time": "2021-02-12T07:18:34.128041Z"
    }
   },
   "outputs": [
    {
     "data": {
      "text/plain": [
       "user_location    36771\n",
       "text                 0\n",
       "hashtags         51334\n",
       "source              77\n",
       "location             0\n",
       "lat              77340\n",
       "lng              77340\n",
       "dtype: int64"
      ]
     },
     "execution_count": 34,
     "metadata": {},
     "output_type": "execute_result"
    }
   ],
   "source": [
    "df_1.isnull().sum()"
   ]
  },
  {
   "cell_type": "code",
   "execution_count": 35,
   "metadata": {
    "ExecuteTime": {
     "end_time": "2021-02-12T07:18:35.527126Z",
     "start_time": "2021-02-12T07:18:34.859400Z"
    }
   },
   "outputs": [],
   "source": [
    "df_1[['lat', 'lng']] = df_1[['lat', 'lng']].astype(str)"
   ]
  },
  {
   "cell_type": "code",
   "execution_count": 36,
   "metadata": {
    "ExecuteTime": {
     "end_time": "2021-02-12T07:18:40.794980Z",
     "start_time": "2021-02-12T07:18:35.564168Z"
    }
   },
   "outputs": [],
   "source": [
    "df_1.to_csv('covid19_tweets_coordinates.csv', index=False)"
   ]
  },
  {
   "cell_type": "code",
   "execution_count": 37,
   "metadata": {
    "ExecuteTime": {
     "end_time": "2021-02-12T07:18:43.620001Z",
     "start_time": "2021-02-12T07:18:40.816822Z"
    }
   },
   "outputs": [],
   "source": [
    "df = pd.read_csv('covid19_tweets_coordinates.csv')"
   ]
  },
  {
   "cell_type": "code",
   "execution_count": 38,
   "metadata": {
    "ExecuteTime": {
     "end_time": "2021-02-12T07:18:43.725436Z",
     "start_time": "2021-02-12T07:18:43.643216Z"
    }
   },
   "outputs": [
    {
     "data": {
      "text/html": [
       "<div>\n",
       "<style scoped>\n",
       "    .dataframe tbody tr th:only-of-type {\n",
       "        vertical-align: middle;\n",
       "    }\n",
       "\n",
       "    .dataframe tbody tr th {\n",
       "        vertical-align: top;\n",
       "    }\n",
       "\n",
       "    .dataframe thead th {\n",
       "        text-align: right;\n",
       "    }\n",
       "</style>\n",
       "<table border=\"1\" class=\"dataframe\">\n",
       "  <thead>\n",
       "    <tr style=\"text-align: right;\">\n",
       "      <th></th>\n",
       "      <th>user_location</th>\n",
       "      <th>text</th>\n",
       "      <th>hashtags</th>\n",
       "      <th>source</th>\n",
       "      <th>location</th>\n",
       "      <th>lat</th>\n",
       "      <th>lng</th>\n",
       "    </tr>\n",
       "  </thead>\n",
       "  <tbody>\n",
       "    <tr>\n",
       "      <th>0</th>\n",
       "      <td>astroworld</td>\n",
       "      <td>If I smelled the scent of hand sanitizers toda...</td>\n",
       "      <td>NaN</td>\n",
       "      <td>Twitter for iPhone</td>\n",
       "      <td>['astroworld']</td>\n",
       "      <td>NaN</td>\n",
       "      <td>NaN</td>\n",
       "    </tr>\n",
       "    <tr>\n",
       "      <th>1</th>\n",
       "      <td>New York, NY</td>\n",
       "      <td>Hey @Yankees @YankeesPR and @MLB - wouldn't it...</td>\n",
       "      <td>NaN</td>\n",
       "      <td>Twitter for Android</td>\n",
       "      <td>['New York', 'NY']</td>\n",
       "      <td>40.6943</td>\n",
       "      <td>-73.9249</td>\n",
       "    </tr>\n",
       "    <tr>\n",
       "      <th>2</th>\n",
       "      <td>Pewee Valley, KY</td>\n",
       "      <td>@diane3443 @wdunlap @realDonaldTrump Trump nev...</td>\n",
       "      <td>['COVID19']</td>\n",
       "      <td>Twitter for Android</td>\n",
       "      <td>['Pewee Valley', 'KY']</td>\n",
       "      <td>60.0000</td>\n",
       "      <td>-95.0000</td>\n",
       "    </tr>\n",
       "    <tr>\n",
       "      <th>3</th>\n",
       "      <td>Stuck in the Middle</td>\n",
       "      <td>@brookbanktv The one gift #COVID19 has give me...</td>\n",
       "      <td>['COVID19']</td>\n",
       "      <td>Twitter for iPhone</td>\n",
       "      <td>['Stuck in the Middle']</td>\n",
       "      <td>NaN</td>\n",
       "      <td>NaN</td>\n",
       "    </tr>\n",
       "    <tr>\n",
       "      <th>4</th>\n",
       "      <td>Jammu and Kashmir</td>\n",
       "      <td>25 July : Media Bulletin on Novel #CoronaVirus...</td>\n",
       "      <td>['CoronaVirusUpdates', 'COVID19']</td>\n",
       "      <td>Twitter for Android</td>\n",
       "      <td>['Jammu and Kashmir']</td>\n",
       "      <td>NaN</td>\n",
       "      <td>NaN</td>\n",
       "    </tr>\n",
       "    <tr>\n",
       "      <th>...</th>\n",
       "      <td>...</td>\n",
       "      <td>...</td>\n",
       "      <td>...</td>\n",
       "      <td>...</td>\n",
       "      <td>...</td>\n",
       "      <td>...</td>\n",
       "      <td>...</td>\n",
       "    </tr>\n",
       "    <tr>\n",
       "      <th>179108</th>\n",
       "      <td>Ilorin, Nigeria</td>\n",
       "      <td>Thanks @IamOhmai for nominating me for the @WH...</td>\n",
       "      <td>['WearAMask']</td>\n",
       "      <td>Twitter for Android</td>\n",
       "      <td>['Ilorin', 'Nigeria']</td>\n",
       "      <td>8.5000</td>\n",
       "      <td>4.5500</td>\n",
       "    </tr>\n",
       "    <tr>\n",
       "      <th>179109</th>\n",
       "      <td>Ontario</td>\n",
       "      <td>2020! The year of insanity! Lol! #COVID19 http...</td>\n",
       "      <td>['COVID19']</td>\n",
       "      <td>Twitter for Android</td>\n",
       "      <td>['Ontario']</td>\n",
       "      <td>34.0393</td>\n",
       "      <td>-117.6064</td>\n",
       "    </tr>\n",
       "    <tr>\n",
       "      <th>179110</th>\n",
       "      <td>🇨🇦 Canada</td>\n",
       "      <td>@CTVNews A powerful painting by Juan Lucena. I...</td>\n",
       "      <td>NaN</td>\n",
       "      <td>Twitter Web App</td>\n",
       "      <td>['🇨🇦 Canada']</td>\n",
       "      <td>NaN</td>\n",
       "      <td>NaN</td>\n",
       "    </tr>\n",
       "    <tr>\n",
       "      <th>179111</th>\n",
       "      <td>New York City</td>\n",
       "      <td>More than 1,200 students test positive for #CO...</td>\n",
       "      <td>['COVID19']</td>\n",
       "      <td>Twitter for iPhone</td>\n",
       "      <td>['New York City']</td>\n",
       "      <td>NaN</td>\n",
       "      <td>NaN</td>\n",
       "    </tr>\n",
       "    <tr>\n",
       "      <th>179112</th>\n",
       "      <td>Aliwal North, South Africa</td>\n",
       "      <td>I stop when I see a Stop\\n\\n@SABCNews\\n@Izinda...</td>\n",
       "      <td>NaN</td>\n",
       "      <td>Twitter for Android</td>\n",
       "      <td>['Aliwal North', 'South Africa']</td>\n",
       "      <td>-30.7000</td>\n",
       "      <td>26.7000</td>\n",
       "    </tr>\n",
       "  </tbody>\n",
       "</table>\n",
       "<p>179113 rows × 7 columns</p>\n",
       "</div>"
      ],
      "text/plain": [
       "                     user_location  \\\n",
       "0                       astroworld   \n",
       "1                     New York, NY   \n",
       "2                 Pewee Valley, KY   \n",
       "3             Stuck in the Middle    \n",
       "4                Jammu and Kashmir   \n",
       "...                            ...   \n",
       "179108             Ilorin, Nigeria   \n",
       "179109                     Ontario   \n",
       "179110                   🇨🇦 Canada   \n",
       "179111               New York City   \n",
       "179112  Aliwal North, South Africa   \n",
       "\n",
       "                                                     text  \\\n",
       "0       If I smelled the scent of hand sanitizers toda...   \n",
       "1       Hey @Yankees @YankeesPR and @MLB - wouldn't it...   \n",
       "2       @diane3443 @wdunlap @realDonaldTrump Trump nev...   \n",
       "3       @brookbanktv The one gift #COVID19 has give me...   \n",
       "4       25 July : Media Bulletin on Novel #CoronaVirus...   \n",
       "...                                                   ...   \n",
       "179108  Thanks @IamOhmai for nominating me for the @WH...   \n",
       "179109  2020! The year of insanity! Lol! #COVID19 http...   \n",
       "179110  @CTVNews A powerful painting by Juan Lucena. I...   \n",
       "179111  More than 1,200 students test positive for #CO...   \n",
       "179112  I stop when I see a Stop\\n\\n@SABCNews\\n@Izinda...   \n",
       "\n",
       "                                 hashtags               source  \\\n",
       "0                                     NaN   Twitter for iPhone   \n",
       "1                                     NaN  Twitter for Android   \n",
       "2                             ['COVID19']  Twitter for Android   \n",
       "3                             ['COVID19']   Twitter for iPhone   \n",
       "4       ['CoronaVirusUpdates', 'COVID19']  Twitter for Android   \n",
       "...                                   ...                  ...   \n",
       "179108                      ['WearAMask']  Twitter for Android   \n",
       "179109                        ['COVID19']  Twitter for Android   \n",
       "179110                                NaN      Twitter Web App   \n",
       "179111                        ['COVID19']   Twitter for iPhone   \n",
       "179112                                NaN  Twitter for Android   \n",
       "\n",
       "                                location      lat       lng  \n",
       "0                         ['astroworld']      NaN       NaN  \n",
       "1                     ['New York', 'NY']  40.6943  -73.9249  \n",
       "2                 ['Pewee Valley', 'KY']  60.0000  -95.0000  \n",
       "3                ['Stuck in the Middle']      NaN       NaN  \n",
       "4                  ['Jammu and Kashmir']      NaN       NaN  \n",
       "...                                  ...      ...       ...  \n",
       "179108             ['Ilorin', 'Nigeria']   8.5000    4.5500  \n",
       "179109                       ['Ontario']  34.0393 -117.6064  \n",
       "179110                     ['🇨🇦 Canada']      NaN       NaN  \n",
       "179111                 ['New York City']      NaN       NaN  \n",
       "179112  ['Aliwal North', 'South Africa'] -30.7000   26.7000  \n",
       "\n",
       "[179113 rows x 7 columns]"
      ]
     },
     "execution_count": 38,
     "metadata": {},
     "output_type": "execute_result"
    }
   ],
   "source": [
    "df"
   ]
  },
  {
   "cell_type": "code",
   "execution_count": 39,
   "metadata": {
    "ExecuteTime": {
     "end_time": "2021-02-12T07:18:44.107059Z",
     "start_time": "2021-02-12T07:18:43.763483Z"
    }
   },
   "outputs": [
    {
     "data": {
      "text/plain": [
       "user_location    36771\n",
       "text                 2\n",
       "hashtags         51339\n",
       "source              82\n",
       "location             7\n",
       "lat              77345\n",
       "lng              77346\n",
       "dtype: int64"
      ]
     },
     "execution_count": 39,
     "metadata": {},
     "output_type": "execute_result"
    }
   ],
   "source": [
    "df.isnull().sum()"
   ]
  },
  {
   "cell_type": "code",
   "execution_count": 40,
   "metadata": {
    "ExecuteTime": {
     "end_time": "2021-02-12T07:18:44.184662Z",
     "start_time": "2021-02-12T07:18:44.170553Z"
    }
   },
   "outputs": [
    {
     "data": {
      "text/plain": [
       "56.81776308810639"
      ]
     },
     "execution_count": 40,
     "metadata": {},
     "output_type": "execute_result"
    }
   ],
   "source": [
    "(len(df.index) - df['lat'].isnull().sum()) / len(df.index) * 100"
   ]
  },
  {
   "cell_type": "markdown",
   "metadata": {},
   "source": [
    "# Kaggle dataset -- Twitter sentiment analysis\n",
    "\n",
    "```\n",
    "kaggle competitions download -c twitter-sentiment-analysis2\n",
    "\n",
    "```"
   ]
  },
  {
   "cell_type": "markdown",
   "metadata": {},
   "source": [
    "![A](A.png)"
   ]
  }
 ],
 "metadata": {
  "kernelspec": {
   "display_name": "Python 3",
   "language": "python",
   "name": "python3"
  },
  "language_info": {
   "codemirror_mode": {
    "name": "ipython",
    "version": 3
   },
   "file_extension": ".py",
   "mimetype": "text/x-python",
   "name": "python",
   "nbconvert_exporter": "python",
   "pygments_lexer": "ipython3",
   "version": "3.7.9"
  },
  "latex_envs": {
   "LaTeX_envs_menu_present": true,
   "autoclose": false,
   "autocomplete": true,
   "bibliofile": "biblio.bib",
   "cite_by": "apalike",
   "current_citInitial": 1,
   "eqLabelWithNumbers": true,
   "eqNumInitial": 1,
   "hotkeys": {
    "equation": "Ctrl-E",
    "itemize": "Ctrl-I"
   },
   "labels_anchors": false,
   "latex_user_defs": false,
   "report_style_numbering": false,
   "user_envs_cfg": false
  },
  "nbTranslate": {
   "displayLangs": [
    "*"
   ],
   "hotkey": "alt-t",
   "langInMainMenu": true,
   "sourceLang": "en",
   "targetLang": "fr",
   "useGoogleTranslate": true
  },
  "toc": {
   "base_numbering": 1,
   "nav_menu": {},
   "number_sections": true,
   "sideBar": true,
   "skip_h1_title": false,
   "title_cell": "Table of Contents",
   "title_sidebar": "Contents",
   "toc_cell": true,
   "toc_position": {
    "height": "calc(100% - 180px)",
    "left": "10px",
    "top": "150px",
    "width": "287.969px"
   },
   "toc_section_display": true,
   "toc_window_display": true
  },
  "varInspector": {
   "cols": {
    "lenName": 16,
    "lenType": 16,
    "lenVar": 40
   },
   "kernels_config": {
    "python": {
     "delete_cmd_postfix": "",
     "delete_cmd_prefix": "del ",
     "library": "var_list.py",
     "varRefreshCmd": "print(var_dic_list())"
    },
    "r": {
     "delete_cmd_postfix": ") ",
     "delete_cmd_prefix": "rm(",
     "library": "var_list.r",
     "varRefreshCmd": "cat(var_dic_list()) "
    }
   },
   "position": {
    "height": "146.997px",
    "left": "1077.99px",
    "right": "20px",
    "top": "121px",
    "width": "313.976px"
   },
   "types_to_exclude": [
    "module",
    "function",
    "builtin_function_or_method",
    "instance",
    "_Feature"
   ],
   "window_display": true
  }
 },
 "nbformat": 4,
 "nbformat_minor": 4
}
