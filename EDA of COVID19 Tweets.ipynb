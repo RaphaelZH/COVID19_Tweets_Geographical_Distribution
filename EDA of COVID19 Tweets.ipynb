{
 "cells": [
  {
   "cell_type": "markdown",
   "metadata": {},
   "source": [
    "# Importation of the necessary libraries\n",
    "\n",
    "## Necessary libraries for data analysis"
   ]
  },
  {
   "cell_type": "code",
   "execution_count": 1,
   "metadata": {
    "ExecuteTime": {
     "end_time": "2021-02-11T23:13:03.844980Z",
     "start_time": "2021-02-11T23:13:02.261408Z"
    }
   },
   "outputs": [],
   "source": [
    "import pandas as pd\n",
    "import numpy as np"
   ]
  },
  {
   "cell_type": "code",
   "execution_count": null,
   "metadata": {},
   "outputs": [],
   "source": []
  },
  {
   "cell_type": "code",
   "execution_count": null,
   "metadata": {
    "ExecuteTime": {
     "end_time": "2021-02-11T21:33:21.950781Z",
     "start_time": "2021-02-11T21:33:21.944329Z"
    }
   },
   "outputs": [],
   "source": []
  },
  {
   "cell_type": "markdown",
   "metadata": {},
   "source": [
    "## Necessary libraries for data visualization"
   ]
  },
  {
   "cell_type": "code",
   "execution_count": 2,
   "metadata": {
    "ExecuteTime": {
     "end_time": "2021-02-11T23:13:04.928468Z",
     "start_time": "2021-02-11T23:13:03.926232Z"
    }
   },
   "outputs": [],
   "source": [
    "import matplotlib.pyplot as plt"
   ]
  },
  {
   "cell_type": "code",
   "execution_count": 3,
   "metadata": {
    "ExecuteTime": {
     "end_time": "2021-02-11T23:13:04.946189Z",
     "start_time": "2021-02-11T23:13:04.938718Z"
    }
   },
   "outputs": [],
   "source": [
    "#import folium\n",
    "#from folium.plugins import HeatMapWithTime, TimestampedGeoJson\n",
    "#\n",
    "#import seaborn as sns"
   ]
  },
  {
   "cell_type": "markdown",
   "metadata": {},
   "source": [
    "# Preliminary investigation of the primary data set"
   ]
  },
  {
   "cell_type": "code",
   "execution_count": 4,
   "metadata": {
    "ExecuteTime": {
     "end_time": "2021-02-11T23:13:10.765121Z",
     "start_time": "2021-02-11T23:13:05.227465Z"
    }
   },
   "outputs": [
    {
     "data": {
      "text/html": [
       "<div>\n",
       "<style scoped>\n",
       "    .dataframe tbody tr th:only-of-type {\n",
       "        vertical-align: middle;\n",
       "    }\n",
       "\n",
       "    .dataframe tbody tr th {\n",
       "        vertical-align: top;\n",
       "    }\n",
       "\n",
       "    .dataframe thead th {\n",
       "        text-align: right;\n",
       "    }\n",
       "</style>\n",
       "<table border=\"1\" class=\"dataframe\">\n",
       "  <thead>\n",
       "    <tr style=\"text-align: right;\">\n",
       "      <th></th>\n",
       "      <th>user_name</th>\n",
       "      <th>user_location</th>\n",
       "      <th>user_description</th>\n",
       "      <th>user_created</th>\n",
       "      <th>user_followers</th>\n",
       "      <th>user_friends</th>\n",
       "      <th>user_favourites</th>\n",
       "      <th>user_verified</th>\n",
       "      <th>date</th>\n",
       "      <th>text</th>\n",
       "      <th>hashtags</th>\n",
       "      <th>source</th>\n",
       "      <th>is_retweet</th>\n",
       "    </tr>\n",
       "  </thead>\n",
       "  <tbody>\n",
       "    <tr>\n",
       "      <th>0</th>\n",
       "      <td>ᏉᎥ☻լꂅϮ</td>\n",
       "      <td>astroworld</td>\n",
       "      <td>wednesday addams as a disney princess keepin i...</td>\n",
       "      <td>2017-05-26 05:46:42</td>\n",
       "      <td>624</td>\n",
       "      <td>950</td>\n",
       "      <td>18775</td>\n",
       "      <td>False</td>\n",
       "      <td>2020-07-25 12:27:21</td>\n",
       "      <td>If I smelled the scent of hand sanitizers toda...</td>\n",
       "      <td>NaN</td>\n",
       "      <td>Twitter for iPhone</td>\n",
       "      <td>False</td>\n",
       "    </tr>\n",
       "    <tr>\n",
       "      <th>1</th>\n",
       "      <td>Tom Basile 🇺🇸</td>\n",
       "      <td>New York, NY</td>\n",
       "      <td>Husband, Father, Columnist &amp; Commentator. Auth...</td>\n",
       "      <td>2009-04-16 20:06:23</td>\n",
       "      <td>2253</td>\n",
       "      <td>1677</td>\n",
       "      <td>24</td>\n",
       "      <td>True</td>\n",
       "      <td>2020-07-25 12:27:17</td>\n",
       "      <td>Hey @Yankees @YankeesPR and @MLB - wouldn't it...</td>\n",
       "      <td>NaN</td>\n",
       "      <td>Twitter for Android</td>\n",
       "      <td>False</td>\n",
       "    </tr>\n",
       "    <tr>\n",
       "      <th>2</th>\n",
       "      <td>Time4fisticuffs</td>\n",
       "      <td>Pewee Valley, KY</td>\n",
       "      <td>#Christian #Catholic #Conservative #Reagan #Re...</td>\n",
       "      <td>2009-02-28 18:57:41</td>\n",
       "      <td>9275</td>\n",
       "      <td>9525</td>\n",
       "      <td>7254</td>\n",
       "      <td>False</td>\n",
       "      <td>2020-07-25 12:27:14</td>\n",
       "      <td>@diane3443 @wdunlap @realDonaldTrump Trump nev...</td>\n",
       "      <td>['COVID19']</td>\n",
       "      <td>Twitter for Android</td>\n",
       "      <td>False</td>\n",
       "    </tr>\n",
       "    <tr>\n",
       "      <th>3</th>\n",
       "      <td>ethel mertz</td>\n",
       "      <td>Stuck in the Middle</td>\n",
       "      <td>#Browns #Indians #ClevelandProud #[]_[] #Cavs ...</td>\n",
       "      <td>2019-03-07 01:45:06</td>\n",
       "      <td>197</td>\n",
       "      <td>987</td>\n",
       "      <td>1488</td>\n",
       "      <td>False</td>\n",
       "      <td>2020-07-25 12:27:10</td>\n",
       "      <td>@brookbanktv The one gift #COVID19 has give me...</td>\n",
       "      <td>['COVID19']</td>\n",
       "      <td>Twitter for iPhone</td>\n",
       "      <td>False</td>\n",
       "    </tr>\n",
       "    <tr>\n",
       "      <th>4</th>\n",
       "      <td>DIPR-J&amp;K</td>\n",
       "      <td>Jammu and Kashmir</td>\n",
       "      <td>🖊️Official Twitter handle of Department of Inf...</td>\n",
       "      <td>2017-02-12 06:45:15</td>\n",
       "      <td>101009</td>\n",
       "      <td>168</td>\n",
       "      <td>101</td>\n",
       "      <td>False</td>\n",
       "      <td>2020-07-25 12:27:08</td>\n",
       "      <td>25 July : Media Bulletin on Novel #CoronaVirus...</td>\n",
       "      <td>['CoronaVirusUpdates', 'COVID19']</td>\n",
       "      <td>Twitter for Android</td>\n",
       "      <td>False</td>\n",
       "    </tr>\n",
       "  </tbody>\n",
       "</table>\n",
       "</div>"
      ],
      "text/plain": [
       "         user_name         user_location  \\\n",
       "0           ᏉᎥ☻լꂅϮ            astroworld   \n",
       "1    Tom Basile 🇺🇸          New York, NY   \n",
       "2  Time4fisticuffs      Pewee Valley, KY   \n",
       "3      ethel mertz  Stuck in the Middle    \n",
       "4         DIPR-J&K     Jammu and Kashmir   \n",
       "\n",
       "                                    user_description         user_created  \\\n",
       "0  wednesday addams as a disney princess keepin i...  2017-05-26 05:46:42   \n",
       "1  Husband, Father, Columnist & Commentator. Auth...  2009-04-16 20:06:23   \n",
       "2  #Christian #Catholic #Conservative #Reagan #Re...  2009-02-28 18:57:41   \n",
       "3  #Browns #Indians #ClevelandProud #[]_[] #Cavs ...  2019-03-07 01:45:06   \n",
       "4  🖊️Official Twitter handle of Department of Inf...  2017-02-12 06:45:15   \n",
       "\n",
       "   user_followers  user_friends  user_favourites  user_verified  \\\n",
       "0             624           950            18775          False   \n",
       "1            2253          1677               24           True   \n",
       "2            9275          9525             7254          False   \n",
       "3             197           987             1488          False   \n",
       "4          101009           168              101          False   \n",
       "\n",
       "                  date                                               text  \\\n",
       "0  2020-07-25 12:27:21  If I smelled the scent of hand sanitizers toda...   \n",
       "1  2020-07-25 12:27:17  Hey @Yankees @YankeesPR and @MLB - wouldn't it...   \n",
       "2  2020-07-25 12:27:14  @diane3443 @wdunlap @realDonaldTrump Trump nev...   \n",
       "3  2020-07-25 12:27:10  @brookbanktv The one gift #COVID19 has give me...   \n",
       "4  2020-07-25 12:27:08  25 July : Media Bulletin on Novel #CoronaVirus...   \n",
       "\n",
       "                            hashtags               source  is_retweet  \n",
       "0                                NaN   Twitter for iPhone       False  \n",
       "1                                NaN  Twitter for Android       False  \n",
       "2                        ['COVID19']  Twitter for Android       False  \n",
       "3                        ['COVID19']   Twitter for iPhone       False  \n",
       "4  ['CoronaVirusUpdates', 'COVID19']  Twitter for Android       False  "
      ]
     },
     "execution_count": 4,
     "metadata": {},
     "output_type": "execute_result"
    }
   ],
   "source": [
    "# URL: https://www.kaggle.com/gpreda/covid19-tweets\n",
    "covid19_tweets = pd.read_csv(\"covid19_tweets.csv\")\n",
    "\n",
    "covid19_tweets.head()"
   ]
  },
  {
   "cell_type": "code",
   "execution_count": 5,
   "metadata": {
    "ExecuteTime": {
     "end_time": "2021-02-11T23:13:10.780094Z",
     "start_time": "2021-02-11T23:13:10.773794Z"
    }
   },
   "outputs": [
    {
     "data": {
      "text/plain": [
       "(179108, 13)"
      ]
     },
     "execution_count": 5,
     "metadata": {},
     "output_type": "execute_result"
    }
   ],
   "source": [
    "covid19_tweets.shape"
   ]
  },
  {
   "cell_type": "code",
   "execution_count": 6,
   "metadata": {
    "ExecuteTime": {
     "end_time": "2021-02-11T23:13:11.107478Z",
     "start_time": "2021-02-11T23:13:10.795446Z"
    }
   },
   "outputs": [
    {
     "name": "stdout",
     "output_type": "stream",
     "text": [
      "<class 'pandas.core.frame.DataFrame'>\n",
      "RangeIndex: 179108 entries, 0 to 179107\n",
      "Data columns (total 13 columns):\n",
      " #   Column            Non-Null Count   Dtype \n",
      "---  ------            --------------   ----- \n",
      " 0   user_name         179108 non-null  object\n",
      " 1   user_location     142337 non-null  object\n",
      " 2   user_description  168822 non-null  object\n",
      " 3   user_created      179108 non-null  object\n",
      " 4   user_followers    179108 non-null  int64 \n",
      " 5   user_friends      179108 non-null  int64 \n",
      " 6   user_favourites   179108 non-null  int64 \n",
      " 7   user_verified     179108 non-null  bool  \n",
      " 8   date              179108 non-null  object\n",
      " 9   text              179108 non-null  object\n",
      " 10  hashtags          127774 non-null  object\n",
      " 11  source            179031 non-null  object\n",
      " 12  is_retweet        179108 non-null  bool  \n",
      "dtypes: bool(2), int64(3), object(8)\n",
      "memory usage: 15.4+ MB\n"
     ]
    }
   ],
   "source": [
    "covid19_tweets.info()"
   ]
  },
  {
   "cell_type": "code",
   "execution_count": 7,
   "metadata": {
    "ExecuteTime": {
     "end_time": "2021-02-11T23:13:11.148524Z",
     "start_time": "2021-02-11T23:13:11.138844Z"
    }
   },
   "outputs": [
    {
     "data": {
      "text/plain": [
       "Index(['user_name', 'user_location', 'user_description', 'user_created',\n",
       "       'user_followers', 'user_friends', 'user_favourites', 'user_verified',\n",
       "       'date', 'text', 'hashtags', 'source', 'is_retweet'],\n",
       "      dtype='object')"
      ]
     },
     "execution_count": 7,
     "metadata": {},
     "output_type": "execute_result"
    }
   ],
   "source": [
    "covid19_tweets.columns"
   ]
  },
  {
   "cell_type": "code",
   "execution_count": 8,
   "metadata": {
    "ExecuteTime": {
     "end_time": "2021-02-11T23:13:11.252754Z",
     "start_time": "2021-02-11T23:13:11.154355Z"
    }
   },
   "outputs": [
    {
     "data": {
      "text/html": [
       "<div>\n",
       "<style scoped>\n",
       "    .dataframe tbody tr th:only-of-type {\n",
       "        vertical-align: middle;\n",
       "    }\n",
       "\n",
       "    .dataframe tbody tr th {\n",
       "        vertical-align: top;\n",
       "    }\n",
       "\n",
       "    .dataframe thead th {\n",
       "        text-align: right;\n",
       "    }\n",
       "</style>\n",
       "<table border=\"1\" class=\"dataframe\">\n",
       "  <thead>\n",
       "    <tr style=\"text-align: right;\">\n",
       "      <th></th>\n",
       "      <th>user_location</th>\n",
       "      <th>text</th>\n",
       "      <th>hashtags</th>\n",
       "      <th>source</th>\n",
       "    </tr>\n",
       "  </thead>\n",
       "  <tbody>\n",
       "    <tr>\n",
       "      <th>0</th>\n",
       "      <td>astroworld</td>\n",
       "      <td>If I smelled the scent of hand sanitizers toda...</td>\n",
       "      <td>NaN</td>\n",
       "      <td>Twitter for iPhone</td>\n",
       "    </tr>\n",
       "    <tr>\n",
       "      <th>1</th>\n",
       "      <td>New York, NY</td>\n",
       "      <td>Hey @Yankees @YankeesPR and @MLB - wouldn't it...</td>\n",
       "      <td>NaN</td>\n",
       "      <td>Twitter for Android</td>\n",
       "    </tr>\n",
       "    <tr>\n",
       "      <th>2</th>\n",
       "      <td>Pewee Valley, KY</td>\n",
       "      <td>@diane3443 @wdunlap @realDonaldTrump Trump nev...</td>\n",
       "      <td>['COVID19']</td>\n",
       "      <td>Twitter for Android</td>\n",
       "    </tr>\n",
       "    <tr>\n",
       "      <th>3</th>\n",
       "      <td>Stuck in the Middle</td>\n",
       "      <td>@brookbanktv The one gift #COVID19 has give me...</td>\n",
       "      <td>['COVID19']</td>\n",
       "      <td>Twitter for iPhone</td>\n",
       "    </tr>\n",
       "    <tr>\n",
       "      <th>4</th>\n",
       "      <td>Jammu and Kashmir</td>\n",
       "      <td>25 July : Media Bulletin on Novel #CoronaVirus...</td>\n",
       "      <td>['CoronaVirusUpdates', 'COVID19']</td>\n",
       "      <td>Twitter for Android</td>\n",
       "    </tr>\n",
       "    <tr>\n",
       "      <th>...</th>\n",
       "      <td>...</td>\n",
       "      <td>...</td>\n",
       "      <td>...</td>\n",
       "      <td>...</td>\n",
       "    </tr>\n",
       "    <tr>\n",
       "      <th>179103</th>\n",
       "      <td>Ilorin, Nigeria</td>\n",
       "      <td>Thanks @IamOhmai for nominating me for the @WH...</td>\n",
       "      <td>['WearAMask']</td>\n",
       "      <td>Twitter for Android</td>\n",
       "    </tr>\n",
       "    <tr>\n",
       "      <th>179104</th>\n",
       "      <td>Ontario</td>\n",
       "      <td>2020! The year of insanity! Lol! #COVID19 http...</td>\n",
       "      <td>['COVID19']</td>\n",
       "      <td>Twitter for Android</td>\n",
       "    </tr>\n",
       "    <tr>\n",
       "      <th>179105</th>\n",
       "      <td>🇨🇦 Canada</td>\n",
       "      <td>@CTVNews A powerful painting by Juan Lucena. I...</td>\n",
       "      <td>NaN</td>\n",
       "      <td>Twitter Web App</td>\n",
       "    </tr>\n",
       "    <tr>\n",
       "      <th>179106</th>\n",
       "      <td>New York City</td>\n",
       "      <td>More than 1,200 students test positive for #CO...</td>\n",
       "      <td>['COVID19']</td>\n",
       "      <td>Twitter for iPhone</td>\n",
       "    </tr>\n",
       "    <tr>\n",
       "      <th>179107</th>\n",
       "      <td>Aliwal North, South Africa</td>\n",
       "      <td>I stop when I see a Stop\\n\\n@SABCNews\\n@Izinda...</td>\n",
       "      <td>NaN</td>\n",
       "      <td>Twitter for Android</td>\n",
       "    </tr>\n",
       "  </tbody>\n",
       "</table>\n",
       "<p>179108 rows × 4 columns</p>\n",
       "</div>"
      ],
      "text/plain": [
       "                     user_location  \\\n",
       "0                       astroworld   \n",
       "1                     New York, NY   \n",
       "2                 Pewee Valley, KY   \n",
       "3             Stuck in the Middle    \n",
       "4                Jammu and Kashmir   \n",
       "...                            ...   \n",
       "179103             Ilorin, Nigeria   \n",
       "179104                     Ontario   \n",
       "179105                   🇨🇦 Canada   \n",
       "179106               New York City   \n",
       "179107  Aliwal North, South Africa   \n",
       "\n",
       "                                                     text  \\\n",
       "0       If I smelled the scent of hand sanitizers toda...   \n",
       "1       Hey @Yankees @YankeesPR and @MLB - wouldn't it...   \n",
       "2       @diane3443 @wdunlap @realDonaldTrump Trump nev...   \n",
       "3       @brookbanktv The one gift #COVID19 has give me...   \n",
       "4       25 July : Media Bulletin on Novel #CoronaVirus...   \n",
       "...                                                   ...   \n",
       "179103  Thanks @IamOhmai for nominating me for the @WH...   \n",
       "179104  2020! The year of insanity! Lol! #COVID19 http...   \n",
       "179105  @CTVNews A powerful painting by Juan Lucena. I...   \n",
       "179106  More than 1,200 students test positive for #CO...   \n",
       "179107  I stop when I see a Stop\\n\\n@SABCNews\\n@Izinda...   \n",
       "\n",
       "                                 hashtags               source  \n",
       "0                                     NaN   Twitter for iPhone  \n",
       "1                                     NaN  Twitter for Android  \n",
       "2                             ['COVID19']  Twitter for Android  \n",
       "3                             ['COVID19']   Twitter for iPhone  \n",
       "4       ['CoronaVirusUpdates', 'COVID19']  Twitter for Android  \n",
       "...                                   ...                  ...  \n",
       "179103                      ['WearAMask']  Twitter for Android  \n",
       "179104                        ['COVID19']  Twitter for Android  \n",
       "179105                                NaN      Twitter Web App  \n",
       "179106                        ['COVID19']   Twitter for iPhone  \n",
       "179107                                NaN  Twitter for Android  \n",
       "\n",
       "[179108 rows x 4 columns]"
      ]
     },
     "execution_count": 8,
     "metadata": {},
     "output_type": "execute_result"
    }
   ],
   "source": [
    "df_1 = covid19_tweets[['user_location', 'text', 'hashtags', 'source']].copy()\n",
    "df_1"
   ]
  },
  {
   "cell_type": "markdown",
   "metadata": {},
   "source": [
    "# Geospatial distribution of Tweets\n",
    "\n",
    "## Data preparation"
   ]
  },
  {
   "cell_type": "code",
   "execution_count": 9,
   "metadata": {
    "ExecuteTime": {
     "end_time": "2021-02-11T23:13:11.350955Z",
     "start_time": "2021-02-11T23:13:11.273001Z"
    }
   },
   "outputs": [
    {
     "data": {
      "text/plain": [
       "36771"
      ]
     },
     "execution_count": 9,
     "metadata": {},
     "output_type": "execute_result"
    }
   ],
   "source": [
    "df_1[\"user_location\"].isnull().sum()"
   ]
  },
  {
   "cell_type": "code",
   "execution_count": 10,
   "metadata": {
    "ExecuteTime": {
     "end_time": "2021-02-11T23:13:11.386868Z",
     "start_time": "2021-02-11T23:13:11.361840Z"
    }
   },
   "outputs": [
    {
     "data": {
      "text/plain": [
       "0                                            astroworld\n",
       "1                                          New York, NY\n",
       "2                                      Pewee Valley, KY\n",
       "3                                  Stuck in the Middle \n",
       "4                                     Jammu and Kashmir\n",
       "5                                           Новоро́ссия\n",
       "6                                       Gainesville, FL\n",
       "7                                                   NaN\n",
       "8                                                   NaN\n",
       "9                            👇🏻location at link below👇🏻\n",
       "10                                                  NaN\n",
       "11                                     Dhaka,Bangladesh\n",
       "12    Hotel living - various cities!  Who needs a ho...\n",
       "13                                               Africa\n",
       "14                                            New Delhi\n",
       "15                                      Nagaland, India\n",
       "16                                                  NaN\n",
       "17                                             Brussels\n",
       "18                                                  NaN\n",
       "19                                         Florida, USA\n",
       "Name: user_location, dtype: object"
      ]
     },
     "execution_count": 10,
     "metadata": {},
     "output_type": "execute_result"
    }
   ],
   "source": [
    "df_1[\"user_location\"][:20]"
   ]
  },
  {
   "cell_type": "code",
   "execution_count": 11,
   "metadata": {
    "ExecuteTime": {
     "end_time": "2021-02-11T23:13:13.107340Z",
     "start_time": "2021-02-11T23:13:11.477651Z"
    }
   },
   "outputs": [
    {
     "data": {
      "text/plain": [
       "0                                          [astroworld]\n",
       "1                                        [New York, NY]\n",
       "2                                    [Pewee Valley, KY]\n",
       "3                               [Stuck in the Middle, ]\n",
       "4                                   [Jammu and Kashmir]\n",
       "5                                         [Новоро́ссия]\n",
       "6                                     [Gainesville, FL]\n",
       "7                                                    []\n",
       "8                                                    []\n",
       "9                          [👇🏻location at link below👇🏻]\n",
       "10                                                   []\n",
       "11                                  [Dhaka, Bangladesh]\n",
       "12    [Hotel living - various cities!  Who needs a h...\n",
       "13                                             [Africa]\n",
       "14                                          [New Delhi]\n",
       "15                                    [Nagaland, India]\n",
       "16                                                   []\n",
       "17                                           [Brussels]\n",
       "18                                                   []\n",
       "19                                       [Florida, USA]\n",
       "Name: location, dtype: object"
      ]
     },
     "execution_count": 11,
     "metadata": {},
     "output_type": "execute_result"
    }
   ],
   "source": [
    "location = df_1[\"user_location\"].fillna(value='').str.split(r'[\\s]*,[\\s]*|[\\s]+$')\n",
    "df_1['location'] = location\n",
    "df_1['location'][:20]"
   ]
  },
  {
   "cell_type": "code",
   "execution_count": 12,
   "metadata": {
    "ExecuteTime": {
     "end_time": "2021-02-11T23:13:13.170428Z",
     "start_time": "2021-02-11T23:13:13.151504Z"
    }
   },
   "outputs": [
    {
     "name": "stdout",
     "output_type": "stream",
     "text": [
      "['New York', 'NY']\n",
      "['Pewee Valley', 'KY']\n",
      "['Stuck in the Middle', '']\n",
      "['Gainesville', 'FL']\n",
      "['Dhaka', 'Bangladesh']\n",
      "['Nagaland', 'India']\n",
      "['Florida', 'USA']\n",
      "['Mumbai', 'India']\n",
      "['Manhattan', 'NY']\n",
      "['Chennai', 'India']\n",
      "['Miami', 'FL']\n",
      "['British Columbia', 'Canada']\n",
      "['Farnham', 'Surrey']\n",
      "['Dorset', 'UK']\n",
      "['Bethesda', 'Maryland']\n",
      "['Cavan', 'Ireland']\n",
      "['Port Elizabeth', 'South Africa']\n",
      "['New Delhi', 'India']\n",
      "['Larose', 'LA']\n",
      "['A-009', 'SEC-68', 'NOIDA']\n"
     ]
    }
   ],
   "source": [
    "count = 0\n",
    "for i in range(len(df_1.index)):\n",
    "    if count < 20:\n",
    "        if len(df_1['location'][i]) > 1:\n",
    "            print(df_1['location'][i])\n",
    "            count += 1\n",
    "    else:\n",
    "        break"
   ]
  },
  {
   "cell_type": "markdown",
   "metadata": {},
   "source": [
    "## Importation of the necessary auxiliary data set"
   ]
  },
  {
   "cell_type": "code",
   "execution_count": 29,
   "metadata": {
    "ExecuteTime": {
     "end_time": "2021-02-11T23:15:29.703909Z",
     "start_time": "2021-02-11T23:15:29.436858Z"
    }
   },
   "outputs": [
    {
     "data": {
      "text/html": [
       "<div>\n",
       "<style scoped>\n",
       "    .dataframe tbody tr th:only-of-type {\n",
       "        vertical-align: middle;\n",
       "    }\n",
       "\n",
       "    .dataframe tbody tr th {\n",
       "        vertical-align: top;\n",
       "    }\n",
       "\n",
       "    .dataframe thead th {\n",
       "        text-align: right;\n",
       "    }\n",
       "</style>\n",
       "<table border=\"1\" class=\"dataframe\">\n",
       "  <thead>\n",
       "    <tr style=\"text-align: right;\">\n",
       "      <th></th>\n",
       "      <th>city</th>\n",
       "      <th>city_ascii</th>\n",
       "      <th>lat</th>\n",
       "      <th>lng</th>\n",
       "      <th>country</th>\n",
       "      <th>iso2</th>\n",
       "      <th>iso3</th>\n",
       "      <th>admin_name</th>\n",
       "      <th>capital</th>\n",
       "      <th>population</th>\n",
       "      <th>id</th>\n",
       "    </tr>\n",
       "  </thead>\n",
       "  <tbody>\n",
       "    <tr>\n",
       "      <th>0</th>\n",
       "      <td>Tokyo</td>\n",
       "      <td>Tokyo</td>\n",
       "      <td>35.6897</td>\n",
       "      <td>139.6922</td>\n",
       "      <td>Japan</td>\n",
       "      <td>JP</td>\n",
       "      <td>JPN</td>\n",
       "      <td>Tōkyō</td>\n",
       "      <td>primary</td>\n",
       "      <td>37977000.0</td>\n",
       "      <td>1392685764</td>\n",
       "    </tr>\n",
       "    <tr>\n",
       "      <th>1</th>\n",
       "      <td>Jakarta</td>\n",
       "      <td>Jakarta</td>\n",
       "      <td>-6.2146</td>\n",
       "      <td>106.8451</td>\n",
       "      <td>Indonesia</td>\n",
       "      <td>ID</td>\n",
       "      <td>IDN</td>\n",
       "      <td>Jakarta</td>\n",
       "      <td>primary</td>\n",
       "      <td>34540000.0</td>\n",
       "      <td>1360771077</td>\n",
       "    </tr>\n",
       "    <tr>\n",
       "      <th>2</th>\n",
       "      <td>Delhi</td>\n",
       "      <td>Delhi</td>\n",
       "      <td>28.6600</td>\n",
       "      <td>77.2300</td>\n",
       "      <td>India</td>\n",
       "      <td>IN</td>\n",
       "      <td>IND</td>\n",
       "      <td>Delhi</td>\n",
       "      <td>admin</td>\n",
       "      <td>29617000.0</td>\n",
       "      <td>1356872604</td>\n",
       "    </tr>\n",
       "    <tr>\n",
       "      <th>3</th>\n",
       "      <td>Mumbai</td>\n",
       "      <td>Mumbai</td>\n",
       "      <td>18.9667</td>\n",
       "      <td>72.8333</td>\n",
       "      <td>India</td>\n",
       "      <td>IN</td>\n",
       "      <td>IND</td>\n",
       "      <td>Mahārāshtra</td>\n",
       "      <td>admin</td>\n",
       "      <td>23355000.0</td>\n",
       "      <td>1356226629</td>\n",
       "    </tr>\n",
       "    <tr>\n",
       "      <th>4</th>\n",
       "      <td>Manila</td>\n",
       "      <td>Manila</td>\n",
       "      <td>14.5958</td>\n",
       "      <td>120.9772</td>\n",
       "      <td>Philippines</td>\n",
       "      <td>PH</td>\n",
       "      <td>PHL</td>\n",
       "      <td>Manila</td>\n",
       "      <td>primary</td>\n",
       "      <td>23088000.0</td>\n",
       "      <td>1608618140</td>\n",
       "    </tr>\n",
       "  </tbody>\n",
       "</table>\n",
       "</div>"
      ],
      "text/plain": [
       "      city city_ascii      lat       lng      country iso2 iso3   admin_name  \\\n",
       "0    Tokyo      Tokyo  35.6897  139.6922        Japan   JP  JPN        Tōkyō   \n",
       "1  Jakarta    Jakarta  -6.2146  106.8451    Indonesia   ID  IDN      Jakarta   \n",
       "2    Delhi      Delhi  28.6600   77.2300        India   IN  IND        Delhi   \n",
       "3   Mumbai     Mumbai  18.9667   72.8333        India   IN  IND  Mahārāshtra   \n",
       "4   Manila     Manila  14.5958  120.9772  Philippines   PH  PHL       Manila   \n",
       "\n",
       "   capital  population          id  \n",
       "0  primary  37977000.0  1392685764  \n",
       "1  primary  34540000.0  1360771077  \n",
       "2    admin  29617000.0  1356872604  \n",
       "3    admin  23355000.0  1356226629  \n",
       "4  primary  23088000.0  1608618140  "
      ]
     },
     "execution_count": 29,
     "metadata": {},
     "output_type": "execute_result"
    }
   ],
   "source": [
    "# URL: https://www.kaggle.com/max-mind/world-cities-database\n",
    "world_cities = pd.read_csv('world_cities.csv')\n",
    "\n",
    "world_cities.head()"
   ]
  },
  {
   "cell_type": "code",
   "execution_count": 30,
   "metadata": {
    "ExecuteTime": {
     "end_time": "2021-02-11T23:15:33.358152Z",
     "start_time": "2021-02-11T23:15:33.348822Z"
    }
   },
   "outputs": [
    {
     "data": {
      "text/plain": [
       "(26569, 11)"
      ]
     },
     "execution_count": 30,
     "metadata": {},
     "output_type": "execute_result"
    }
   ],
   "source": [
    "world_cities.shape"
   ]
  },
  {
   "cell_type": "code",
   "execution_count": 31,
   "metadata": {
    "ExecuteTime": {
     "end_time": "2021-02-11T23:15:37.143824Z",
     "start_time": "2021-02-11T23:15:37.074747Z"
    }
   },
   "outputs": [
    {
     "name": "stdout",
     "output_type": "stream",
     "text": [
      "<class 'pandas.core.frame.DataFrame'>\n",
      "RangeIndex: 26569 entries, 0 to 26568\n",
      "Data columns (total 11 columns):\n",
      " #   Column      Non-Null Count  Dtype  \n",
      "---  ------      --------------  -----  \n",
      " 0   city        26569 non-null  object \n",
      " 1   city_ascii  26569 non-null  object \n",
      " 2   lat         26569 non-null  float64\n",
      " 3   lng         26569 non-null  float64\n",
      " 4   country     26569 non-null  object \n",
      " 5   iso2        26538 non-null  object \n",
      " 6   iso3        26569 non-null  object \n",
      " 7   admin_name  26493 non-null  object \n",
      " 8   capital     7626 non-null   object \n",
      " 9   population  25596 non-null  float64\n",
      " 10  id          26569 non-null  int64  \n",
      "dtypes: float64(3), int64(1), object(7)\n",
      "memory usage: 2.2+ MB\n"
     ]
    }
   ],
   "source": [
    "world_cities.info()"
   ]
  },
  {
   "cell_type": "code",
   "execution_count": 32,
   "metadata": {
    "ExecuteTime": {
     "end_time": "2021-02-11T23:15:40.758987Z",
     "start_time": "2021-02-11T23:15:40.747985Z"
    }
   },
   "outputs": [
    {
     "data": {
      "text/plain": [
       "Index(['city', 'city_ascii', 'lat', 'lng', 'country', 'iso2', 'iso3',\n",
       "       'admin_name', 'capital', 'population', 'id'],\n",
       "      dtype='object')"
      ]
     },
     "execution_count": 32,
     "metadata": {},
     "output_type": "execute_result"
    }
   ],
   "source": [
    "world_cities.columns"
   ]
  },
  {
   "cell_type": "code",
   "execution_count": 33,
   "metadata": {
    "ExecuteTime": {
     "end_time": "2021-02-11T23:15:44.376743Z",
     "start_time": "2021-02-11T23:15:44.289079Z"
    }
   },
   "outputs": [
    {
     "data": {
      "text/html": [
       "<div>\n",
       "<style scoped>\n",
       "    .dataframe tbody tr th:only-of-type {\n",
       "        vertical-align: middle;\n",
       "    }\n",
       "\n",
       "    .dataframe tbody tr th {\n",
       "        vertical-align: top;\n",
       "    }\n",
       "\n",
       "    .dataframe thead th {\n",
       "        text-align: right;\n",
       "    }\n",
       "</style>\n",
       "<table border=\"1\" class=\"dataframe\">\n",
       "  <thead>\n",
       "    <tr style=\"text-align: right;\">\n",
       "      <th></th>\n",
       "      <th>city</th>\n",
       "      <th>iso2</th>\n",
       "      <th>iso3</th>\n",
       "      <th>country</th>\n",
       "      <th>admin_name</th>\n",
       "    </tr>\n",
       "  </thead>\n",
       "  <tbody>\n",
       "    <tr>\n",
       "      <th>0</th>\n",
       "      <td>Tokyo</td>\n",
       "      <td>JP</td>\n",
       "      <td>JPN</td>\n",
       "      <td>Japan</td>\n",
       "      <td>Tōkyō</td>\n",
       "    </tr>\n",
       "    <tr>\n",
       "      <th>1</th>\n",
       "      <td>Jakarta</td>\n",
       "      <td>ID</td>\n",
       "      <td>IDN</td>\n",
       "      <td>Indonesia</td>\n",
       "      <td>Jakarta</td>\n",
       "    </tr>\n",
       "    <tr>\n",
       "      <th>2</th>\n",
       "      <td>Delhi</td>\n",
       "      <td>IN</td>\n",
       "      <td>IND</td>\n",
       "      <td>India</td>\n",
       "      <td>Delhi</td>\n",
       "    </tr>\n",
       "    <tr>\n",
       "      <th>3</th>\n",
       "      <td>Mumbai</td>\n",
       "      <td>IN</td>\n",
       "      <td>IND</td>\n",
       "      <td>India</td>\n",
       "      <td>Mahārāshtra</td>\n",
       "    </tr>\n",
       "    <tr>\n",
       "      <th>4</th>\n",
       "      <td>Manila</td>\n",
       "      <td>PH</td>\n",
       "      <td>PHL</td>\n",
       "      <td>Philippines</td>\n",
       "      <td>Manila</td>\n",
       "    </tr>\n",
       "    <tr>\n",
       "      <th>...</th>\n",
       "      <td>...</td>\n",
       "      <td>...</td>\n",
       "      <td>...</td>\n",
       "      <td>...</td>\n",
       "      <td>...</td>\n",
       "    </tr>\n",
       "    <tr>\n",
       "      <th>26564</th>\n",
       "      <td>Nord</td>\n",
       "      <td>GL</td>\n",
       "      <td>GRL</td>\n",
       "      <td>Greenland</td>\n",
       "      <td>Sermersooq</td>\n",
       "    </tr>\n",
       "    <tr>\n",
       "      <th>26565</th>\n",
       "      <td>Timmiarmiut</td>\n",
       "      <td>GL</td>\n",
       "      <td>GRL</td>\n",
       "      <td>Greenland</td>\n",
       "      <td>Kujalleq</td>\n",
       "    </tr>\n",
       "    <tr>\n",
       "      <th>26566</th>\n",
       "      <td>Cheremoshna</td>\n",
       "      <td>UA</td>\n",
       "      <td>UKR</td>\n",
       "      <td>Ukraine</td>\n",
       "      <td>Kyyivs’ka Oblast’</td>\n",
       "    </tr>\n",
       "    <tr>\n",
       "      <th>26567</th>\n",
       "      <td>Ambarchik</td>\n",
       "      <td>RU</td>\n",
       "      <td>RUS</td>\n",
       "      <td>Russia</td>\n",
       "      <td>Sakha (Yakutiya)</td>\n",
       "    </tr>\n",
       "    <tr>\n",
       "      <th>26568</th>\n",
       "      <td>Nordvik</td>\n",
       "      <td>RU</td>\n",
       "      <td>RUS</td>\n",
       "      <td>Russia</td>\n",
       "      <td>Krasnoyarskiy Kray</td>\n",
       "    </tr>\n",
       "  </tbody>\n",
       "</table>\n",
       "<p>26569 rows × 5 columns</p>\n",
       "</div>"
      ],
      "text/plain": [
       "              city iso2 iso3      country          admin_name\n",
       "0            Tokyo   JP  JPN        Japan               Tōkyō\n",
       "1          Jakarta   ID  IDN    Indonesia             Jakarta\n",
       "2            Delhi   IN  IND        India               Delhi\n",
       "3           Mumbai   IN  IND        India         Mahārāshtra\n",
       "4           Manila   PH  PHL  Philippines              Manila\n",
       "...            ...  ...  ...          ...                 ...\n",
       "26564         Nord   GL  GRL    Greenland          Sermersooq\n",
       "26565  Timmiarmiut   GL  GRL    Greenland            Kujalleq\n",
       "26566  Cheremoshna   UA  UKR      Ukraine   Kyyivs’ka Oblast’\n",
       "26567    Ambarchik   RU  RUS       Russia    Sakha (Yakutiya)\n",
       "26568      Nordvik   RU  RUS       Russia  Krasnoyarskiy Kray\n",
       "\n",
       "[26569 rows x 5 columns]"
      ]
     },
     "execution_count": 33,
     "metadata": {},
     "output_type": "execute_result"
    }
   ],
   "source": [
    "df_2 = world_cities[['city', 'iso2', 'iso3', 'country', 'admin_name']].copy()\n",
    "df_2"
   ]
  },
  {
   "cell_type": "code",
   "execution_count": 34,
   "metadata": {
    "ExecuteTime": {
     "end_time": "2021-02-11T23:16:06.993896Z",
     "start_time": "2021-02-11T23:16:06.968940Z"
    }
   },
   "outputs": [
    {
     "data": {
      "text/html": [
       "<div>\n",
       "<style scoped>\n",
       "    .dataframe tbody tr th:only-of-type {\n",
       "        vertical-align: middle;\n",
       "    }\n",
       "\n",
       "    .dataframe tbody tr th {\n",
       "        vertical-align: top;\n",
       "    }\n",
       "\n",
       "    .dataframe thead th {\n",
       "        text-align: right;\n",
       "    }\n",
       "</style>\n",
       "<table border=\"1\" class=\"dataframe\">\n",
       "  <thead>\n",
       "    <tr style=\"text-align: right;\">\n",
       "      <th></th>\n",
       "      <th>Country</th>\n",
       "      <th>Alpha-2 code</th>\n",
       "      <th>Alpha-3 code</th>\n",
       "      <th>Numeric code</th>\n",
       "      <th>Latitude (average)</th>\n",
       "      <th>Longitude (average)</th>\n",
       "    </tr>\n",
       "  </thead>\n",
       "  <tbody>\n",
       "    <tr>\n",
       "      <th>0</th>\n",
       "      <td>Afghanistan</td>\n",
       "      <td>\"AF\"</td>\n",
       "      <td>\"AFG\"</td>\n",
       "      <td>\"4\"</td>\n",
       "      <td>\"33\"</td>\n",
       "      <td>\"65\"</td>\n",
       "    </tr>\n",
       "    <tr>\n",
       "      <th>1</th>\n",
       "      <td>Albania</td>\n",
       "      <td>\"AL\"</td>\n",
       "      <td>\"ALB\"</td>\n",
       "      <td>\"8\"</td>\n",
       "      <td>\"41\"</td>\n",
       "      <td>\"20\"</td>\n",
       "    </tr>\n",
       "    <tr>\n",
       "      <th>2</th>\n",
       "      <td>Algeria</td>\n",
       "      <td>\"DZ\"</td>\n",
       "      <td>\"DZA\"</td>\n",
       "      <td>\"12\"</td>\n",
       "      <td>\"28\"</td>\n",
       "      <td>\"3\"</td>\n",
       "    </tr>\n",
       "    <tr>\n",
       "      <th>3</th>\n",
       "      <td>American Samoa</td>\n",
       "      <td>\"AS\"</td>\n",
       "      <td>\"ASM\"</td>\n",
       "      <td>\"16\"</td>\n",
       "      <td>\"-14.3333\"</td>\n",
       "      <td>\"-170\"</td>\n",
       "    </tr>\n",
       "    <tr>\n",
       "      <th>4</th>\n",
       "      <td>Andorra</td>\n",
       "      <td>\"AD\"</td>\n",
       "      <td>\"AND\"</td>\n",
       "      <td>\"20\"</td>\n",
       "      <td>\"42.5\"</td>\n",
       "      <td>\"1.6\"</td>\n",
       "    </tr>\n",
       "  </tbody>\n",
       "</table>\n",
       "</div>"
      ],
      "text/plain": [
       "          Country Alpha-2 code Alpha-3 code Numeric code Latitude (average)  \\\n",
       "0     Afghanistan         \"AF\"        \"AFG\"          \"4\"               \"33\"   \n",
       "1         Albania         \"AL\"        \"ALB\"          \"8\"               \"41\"   \n",
       "2         Algeria         \"DZ\"        \"DZA\"         \"12\"               \"28\"   \n",
       "3  American Samoa         \"AS\"        \"ASM\"         \"16\"         \"-14.3333\"   \n",
       "4         Andorra         \"AD\"        \"AND\"         \"20\"             \"42.5\"   \n",
       "\n",
       "  Longitude (average)  \n",
       "0                \"65\"  \n",
       "1                \"20\"  \n",
       "2                 \"3\"  \n",
       "3              \"-170\"  \n",
       "4               \"1.6\"  "
      ]
     },
     "execution_count": 34,
     "metadata": {},
     "output_type": "execute_result"
    }
   ],
   "source": [
    "# https://gist.github.com/tadast/8827699\n",
    "countries_codes_and_coordinates = pd.read_csv(\n",
    "    'countries_codes_and_coordinates.csv')\n",
    "\n",
    "countries_codes_and_coordinates.head()"
   ]
  },
  {
   "cell_type": "code",
   "execution_count": 35,
   "metadata": {
    "ExecuteTime": {
     "end_time": "2021-02-11T23:16:11.855514Z",
     "start_time": "2021-02-11T23:16:11.844952Z"
    }
   },
   "outputs": [
    {
     "data": {
      "text/plain": [
       "(256, 6)"
      ]
     },
     "execution_count": 35,
     "metadata": {},
     "output_type": "execute_result"
    }
   ],
   "source": [
    "countries_codes_and_coordinates.shape"
   ]
  },
  {
   "cell_type": "code",
   "execution_count": 36,
   "metadata": {
    "ExecuteTime": {
     "end_time": "2021-02-11T23:16:16.886070Z",
     "start_time": "2021-02-11T23:16:16.863640Z"
    }
   },
   "outputs": [
    {
     "name": "stdout",
     "output_type": "stream",
     "text": [
      "<class 'pandas.core.frame.DataFrame'>\n",
      "RangeIndex: 256 entries, 0 to 255\n",
      "Data columns (total 6 columns):\n",
      " #   Column               Non-Null Count  Dtype \n",
      "---  ------               --------------  ----- \n",
      " 0   Country              256 non-null    object\n",
      " 1   Alpha-2 code         256 non-null    object\n",
      " 2   Alpha-3 code         256 non-null    object\n",
      " 3   Numeric code         256 non-null    object\n",
      " 4   Latitude (average)   256 non-null    object\n",
      " 5   Longitude (average)  256 non-null    object\n",
      "dtypes: object(6)\n",
      "memory usage: 12.1+ KB\n"
     ]
    }
   ],
   "source": [
    "countries_codes_and_coordinates.info()"
   ]
  },
  {
   "cell_type": "code",
   "execution_count": 37,
   "metadata": {
    "ExecuteTime": {
     "end_time": "2021-02-11T23:16:21.675972Z",
     "start_time": "2021-02-11T23:16:21.667260Z"
    }
   },
   "outputs": [
    {
     "data": {
      "text/plain": [
       "Index(['Country', 'Alpha-2 code', 'Alpha-3 code', 'Numeric code',\n",
       "       'Latitude (average)', 'Longitude (average)'],\n",
       "      dtype='object')"
      ]
     },
     "execution_count": 37,
     "metadata": {},
     "output_type": "execute_result"
    }
   ],
   "source": [
    "countries_codes_and_coordinates.columns"
   ]
  },
  {
   "cell_type": "code",
   "execution_count": 38,
   "metadata": {
    "ExecuteTime": {
     "end_time": "2021-02-11T23:16:26.361697Z",
     "start_time": "2021-02-11T23:16:26.320386Z"
    }
   },
   "outputs": [
    {
     "data": {
      "text/html": [
       "<div>\n",
       "<style scoped>\n",
       "    .dataframe tbody tr th:only-of-type {\n",
       "        vertical-align: middle;\n",
       "    }\n",
       "\n",
       "    .dataframe tbody tr th {\n",
       "        vertical-align: top;\n",
       "    }\n",
       "\n",
       "    .dataframe thead th {\n",
       "        text-align: right;\n",
       "    }\n",
       "</style>\n",
       "<table border=\"1\" class=\"dataframe\">\n",
       "  <thead>\n",
       "    <tr style=\"text-align: right;\">\n",
       "      <th></th>\n",
       "      <th>Country</th>\n",
       "      <th>Alpha-2 code</th>\n",
       "      <th>Alpha-3 code</th>\n",
       "      <th>Latitude (average)</th>\n",
       "      <th>Longitude (average)</th>\n",
       "    </tr>\n",
       "  </thead>\n",
       "  <tbody>\n",
       "    <tr>\n",
       "      <th>0</th>\n",
       "      <td>Afghanistan</td>\n",
       "      <td>\"AF\"</td>\n",
       "      <td>\"AFG\"</td>\n",
       "      <td>\"33\"</td>\n",
       "      <td>\"65\"</td>\n",
       "    </tr>\n",
       "    <tr>\n",
       "      <th>1</th>\n",
       "      <td>Albania</td>\n",
       "      <td>\"AL\"</td>\n",
       "      <td>\"ALB\"</td>\n",
       "      <td>\"41\"</td>\n",
       "      <td>\"20\"</td>\n",
       "    </tr>\n",
       "    <tr>\n",
       "      <th>2</th>\n",
       "      <td>Algeria</td>\n",
       "      <td>\"DZ\"</td>\n",
       "      <td>\"DZA\"</td>\n",
       "      <td>\"28\"</td>\n",
       "      <td>\"3\"</td>\n",
       "    </tr>\n",
       "    <tr>\n",
       "      <th>3</th>\n",
       "      <td>American Samoa</td>\n",
       "      <td>\"AS\"</td>\n",
       "      <td>\"ASM\"</td>\n",
       "      <td>\"-14.3333\"</td>\n",
       "      <td>\"-170\"</td>\n",
       "    </tr>\n",
       "    <tr>\n",
       "      <th>4</th>\n",
       "      <td>Andorra</td>\n",
       "      <td>\"AD\"</td>\n",
       "      <td>\"AND\"</td>\n",
       "      <td>\"42.5\"</td>\n",
       "      <td>\"1.6\"</td>\n",
       "    </tr>\n",
       "    <tr>\n",
       "      <th>...</th>\n",
       "      <td>...</td>\n",
       "      <td>...</td>\n",
       "      <td>...</td>\n",
       "      <td>...</td>\n",
       "      <td>...</td>\n",
       "    </tr>\n",
       "    <tr>\n",
       "      <th>251</th>\n",
       "      <td>Wallis and Futuna</td>\n",
       "      <td>\"WF\"</td>\n",
       "      <td>\"WLF\"</td>\n",
       "      <td>\"-13.3\"</td>\n",
       "      <td>\"-176.2\"</td>\n",
       "    </tr>\n",
       "    <tr>\n",
       "      <th>252</th>\n",
       "      <td>Western Sahara</td>\n",
       "      <td>\"EH\"</td>\n",
       "      <td>\"ESH\"</td>\n",
       "      <td>\"24.5\"</td>\n",
       "      <td>\"-13\"</td>\n",
       "    </tr>\n",
       "    <tr>\n",
       "      <th>253</th>\n",
       "      <td>Yemen</td>\n",
       "      <td>\"YE\"</td>\n",
       "      <td>\"YEM\"</td>\n",
       "      <td>\"15\"</td>\n",
       "      <td>\"48\"</td>\n",
       "    </tr>\n",
       "    <tr>\n",
       "      <th>254</th>\n",
       "      <td>Zambia</td>\n",
       "      <td>\"ZM\"</td>\n",
       "      <td>\"ZMB\"</td>\n",
       "      <td>\"-15\"</td>\n",
       "      <td>\"30\"</td>\n",
       "    </tr>\n",
       "    <tr>\n",
       "      <th>255</th>\n",
       "      <td>Zimbabwe</td>\n",
       "      <td>\"ZW\"</td>\n",
       "      <td>\"ZWE\"</td>\n",
       "      <td>\"-20\"</td>\n",
       "      <td>\"30\"</td>\n",
       "    </tr>\n",
       "  </tbody>\n",
       "</table>\n",
       "<p>256 rows × 5 columns</p>\n",
       "</div>"
      ],
      "text/plain": [
       "               Country Alpha-2 code Alpha-3 code Latitude (average)  \\\n",
       "0          Afghanistan         \"AF\"        \"AFG\"               \"33\"   \n",
       "1              Albania         \"AL\"        \"ALB\"               \"41\"   \n",
       "2              Algeria         \"DZ\"        \"DZA\"               \"28\"   \n",
       "3       American Samoa         \"AS\"        \"ASM\"         \"-14.3333\"   \n",
       "4              Andorra         \"AD\"        \"AND\"             \"42.5\"   \n",
       "..                 ...          ...          ...                ...   \n",
       "251  Wallis and Futuna         \"WF\"        \"WLF\"            \"-13.3\"   \n",
       "252     Western Sahara         \"EH\"        \"ESH\"             \"24.5\"   \n",
       "253              Yemen         \"YE\"        \"YEM\"               \"15\"   \n",
       "254             Zambia         \"ZM\"        \"ZMB\"              \"-15\"   \n",
       "255           Zimbabwe         \"ZW\"        \"ZWE\"              \"-20\"   \n",
       "\n",
       "    Longitude (average)  \n",
       "0                  \"65\"  \n",
       "1                  \"20\"  \n",
       "2                   \"3\"  \n",
       "3                \"-170\"  \n",
       "4                 \"1.6\"  \n",
       "..                  ...  \n",
       "251            \"-176.2\"  \n",
       "252               \"-13\"  \n",
       "253                \"48\"  \n",
       "254                \"30\"  \n",
       "255                \"30\"  \n",
       "\n",
       "[256 rows x 5 columns]"
      ]
     },
     "execution_count": 38,
     "metadata": {},
     "output_type": "execute_result"
    }
   ],
   "source": [
    "df_3 = countries_codes_and_coordinates[[\n",
    "    'Country', 'Alpha-2 code', 'Alpha-3 code', 'Latitude (average)',\n",
    "    'Longitude (average)'\n",
    "]].copy()\n",
    "df_3"
   ]
  },
  {
   "cell_type": "markdown",
   "metadata": {},
   "source": [
    "## "
   ]
  },
  {
   "cell_type": "code",
   "execution_count": null,
   "metadata": {},
   "outputs": [],
   "source": []
  },
  {
   "cell_type": "code",
   "execution_count": null,
   "metadata": {},
   "outputs": [],
   "source": []
  },
  {
   "cell_type": "markdown",
   "metadata": {},
   "source": [
    "# ."
   ]
  },
  {
   "cell_type": "code",
   "execution_count": null,
   "metadata": {
    "ExecuteTime": {
     "end_time": "2021-02-11T23:13:19.434034Z",
     "start_time": "2021-02-11T23:13:17.119Z"
    }
   },
   "outputs": [],
   "source": [
    "countries_codes = []\n",
    "nb = 0\n",
    "for code in avg_countries_location['Alpha-2 code'].str.replace(\n",
    "        '\"', '').str.strip().to_list():\n",
    "    if code not in countries_codes:\n",
    "        countries_codes.append(code)\n",
    "    else:\n",
    "        corresponding_name = avg_countries_location['Country'].to_list()[nb]\n",
    "        print('The repeated code is {}, and its repeated name is \"{}\".'.format(\n",
    "            code, corresponding_name))\n",
    "    nb += 1\n",
    "len(countries_codes)"
   ]
  },
  {
   "cell_type": "code",
   "execution_count": null,
   "metadata": {
    "ExecuteTime": {
     "end_time": "2021-02-11T23:13:19.442843Z",
     "start_time": "2021-02-11T23:13:17.311Z"
    }
   },
   "outputs": [],
   "source": [
    "world_cities_iso2 = []\n",
    "for iso2 in world_cities['iso2'].to_list():\n",
    "    if iso2 not in world_cities_iso2:\n",
    "        world_cities_iso2.append(iso2)\n",
    "len(world_cities_iso2)"
   ]
  },
  {
   "cell_type": "code",
   "execution_count": null,
   "metadata": {
    "ExecuteTime": {
     "end_time": "2021-02-11T23:13:19.447638Z",
     "start_time": "2021-02-11T23:13:17.496Z"
    }
   },
   "outputs": [],
   "source": [
    "for city in world_cities_iso2:\n",
    "    if city not in countries_codes:\n",
    "        print(city)"
   ]
  },
  {
   "cell_type": "markdown",
   "metadata": {},
   "source": [
    "# ."
   ]
  },
  {
   "cell_type": "code",
   "execution_count": null,
   "metadata": {
    "ExecuteTime": {
     "end_time": "2021-02-11T23:13:19.454133Z",
     "start_time": "2021-02-11T23:13:18.738Z"
    }
   },
   "outputs": [],
   "source": [
    "# URL: https://developers.google.com/public-data/docs/canonical/countries_csv\n",
    "# 'XK': 'Kosovo'\n",
    "# 'XW': None\n",
    "# 'CW': None\n",
    "codes = avg_countries_location['Alpha-2 code'].str.replace(\n",
    "    '\"', '').str.strip().to_list() + ['XK']\n",
    "code_latitude = avg_countries_location['Latitude (average)'].str.replace(\n",
    "    '\"', '').to_list() + ['42.602636']\n",
    "code_longitude = avg_countries_location['Longitude (average)'].str.replace(\n",
    "    '\"', '').to_list() + ['20.902977']"
   ]
  },
  {
   "cell_type": "markdown",
   "metadata": {},
   "source": [
    "# ."
   ]
  },
  {
   "cell_type": "code",
   "execution_count": 17,
   "metadata": {
    "ExecuteTime": {
     "end_time": "2021-02-11T23:13:19.961916Z",
     "start_time": "2021-02-11T23:13:19.944081Z"
    }
   },
   "outputs": [
    {
     "ename": "NameError",
     "evalue": "name 'world_cities' is not defined",
     "output_type": "error",
     "traceback": [
      "\u001b[0;31m---------------------------------------------------------------------------\u001b[0m",
      "\u001b[0;31mNameError\u001b[0m                                 Traceback (most recent call last)",
      "\u001b[0;32m<ipython-input-17-7e1fb96edee1>\u001b[0m in \u001b[0;36m<module>\u001b[0;34m\u001b[0m\n\u001b[0;32m----> 1\u001b[0;31m \u001b[0mlat\u001b[0m \u001b[0;34m=\u001b[0m \u001b[0mworld_cities\u001b[0m\u001b[0;34m[\u001b[0m\u001b[0;34m'lat'\u001b[0m\u001b[0;34m]\u001b[0m\u001b[0;34m.\u001b[0m\u001b[0mfillna\u001b[0m\u001b[0;34m(\u001b[0m\u001b[0mvalue\u001b[0m\u001b[0;34m=\u001b[0m\u001b[0;34m''\u001b[0m\u001b[0;34m)\u001b[0m\u001b[0;34m.\u001b[0m\u001b[0mto_list\u001b[0m\u001b[0;34m(\u001b[0m\u001b[0;34m)\u001b[0m\u001b[0;34m\u001b[0m\u001b[0;34m\u001b[0m\u001b[0m\n\u001b[0m\u001b[1;32m      2\u001b[0m \u001b[0mlng\u001b[0m \u001b[0;34m=\u001b[0m \u001b[0mworld_cities\u001b[0m\u001b[0;34m[\u001b[0m\u001b[0;34m'lng'\u001b[0m\u001b[0;34m]\u001b[0m\u001b[0;34m.\u001b[0m\u001b[0mfillna\u001b[0m\u001b[0;34m(\u001b[0m\u001b[0mvalue\u001b[0m\u001b[0;34m=\u001b[0m\u001b[0;34m''\u001b[0m\u001b[0;34m)\u001b[0m\u001b[0;34m.\u001b[0m\u001b[0mto_list\u001b[0m\u001b[0;34m(\u001b[0m\u001b[0;34m)\u001b[0m\u001b[0;34m\u001b[0m\u001b[0;34m\u001b[0m\u001b[0m\n",
      "\u001b[0;31mNameError\u001b[0m: name 'world_cities' is not defined"
     ]
    }
   ],
   "source": [
    "lat = world_cities['lat'].fillna(value='').to_list()\n",
    "lng = world_cities['lng'].fillna(value='').to_list()"
   ]
  },
  {
   "cell_type": "code",
   "execution_count": 18,
   "metadata": {
    "ExecuteTime": {
     "end_time": "2021-02-11T23:13:20.136579Z",
     "start_time": "2021-02-11T23:13:20.117723Z"
    }
   },
   "outputs": [
    {
     "ename": "NameError",
     "evalue": "name 'world_cities' is not defined",
     "output_type": "error",
     "traceback": [
      "\u001b[0;31m---------------------------------------------------------------------------\u001b[0m",
      "\u001b[0;31mNameError\u001b[0m                                 Traceback (most recent call last)",
      "\u001b[0;32m<ipython-input-18-80d6acb01195>\u001b[0m in \u001b[0;36m<module>\u001b[0;34m\u001b[0m\n\u001b[1;32m      1\u001b[0m \u001b[0mworld_cities_iso3\u001b[0m \u001b[0;34m=\u001b[0m \u001b[0;34m[\u001b[0m\u001b[0;34m]\u001b[0m\u001b[0;34m\u001b[0m\u001b[0;34m\u001b[0m\u001b[0m\n\u001b[0;32m----> 2\u001b[0;31m \u001b[0;32mfor\u001b[0m \u001b[0miso3\u001b[0m \u001b[0;32min\u001b[0m \u001b[0mworld_cities\u001b[0m\u001b[0;34m[\u001b[0m\u001b[0;34m'iso3'\u001b[0m\u001b[0;34m]\u001b[0m\u001b[0;34m.\u001b[0m\u001b[0mto_list\u001b[0m\u001b[0;34m(\u001b[0m\u001b[0;34m)\u001b[0m\u001b[0;34m:\u001b[0m\u001b[0;34m\u001b[0m\u001b[0;34m\u001b[0m\u001b[0m\n\u001b[0m\u001b[1;32m      3\u001b[0m     \u001b[0;32mif\u001b[0m \u001b[0miso3\u001b[0m \u001b[0;32mnot\u001b[0m \u001b[0;32min\u001b[0m \u001b[0mworld_cities_iso3\u001b[0m\u001b[0;34m:\u001b[0m\u001b[0;34m\u001b[0m\u001b[0;34m\u001b[0m\u001b[0m\n\u001b[1;32m      4\u001b[0m         \u001b[0mworld_cities_iso3\u001b[0m\u001b[0;34m.\u001b[0m\u001b[0mappend\u001b[0m\u001b[0;34m(\u001b[0m\u001b[0miso3\u001b[0m\u001b[0;34m)\u001b[0m\u001b[0;34m\u001b[0m\u001b[0;34m\u001b[0m\u001b[0m\n\u001b[1;32m      5\u001b[0m \u001b[0mlen\u001b[0m\u001b[0;34m(\u001b[0m\u001b[0mworld_cities_iso3\u001b[0m\u001b[0;34m)\u001b[0m\u001b[0;34m\u001b[0m\u001b[0;34m\u001b[0m\u001b[0m\n",
      "\u001b[0;31mNameError\u001b[0m: name 'world_cities' is not defined"
     ]
    }
   ],
   "source": [
    "world_cities_iso3 = []\n",
    "for iso3 in world_cities['iso3'].to_list():\n",
    "    if iso3 not in world_cities_iso3:\n",
    "        world_cities_iso3.append(iso3)\n",
    "len(world_cities_iso3)"
   ]
  },
  {
   "cell_type": "code",
   "execution_count": 19,
   "metadata": {
    "ExecuteTime": {
     "end_time": "2021-02-11T23:13:20.312505Z",
     "start_time": "2021-02-11T23:13:20.292510Z"
    }
   },
   "outputs": [
    {
     "ename": "NameError",
     "evalue": "name 'world_cities' is not defined",
     "output_type": "error",
     "traceback": [
      "\u001b[0;31m---------------------------------------------------------------------------\u001b[0m",
      "\u001b[0;31mNameError\u001b[0m                                 Traceback (most recent call last)",
      "\u001b[0;32m<ipython-input-19-f2c89655cb34>\u001b[0m in \u001b[0;36m<module>\u001b[0;34m\u001b[0m\n\u001b[1;32m      1\u001b[0m \u001b[0mworld_cities_iso2\u001b[0m \u001b[0;34m=\u001b[0m \u001b[0;34m[\u001b[0m\u001b[0;34m]\u001b[0m\u001b[0;34m\u001b[0m\u001b[0;34m\u001b[0m\u001b[0m\n\u001b[0;32m----> 2\u001b[0;31m \u001b[0;32mfor\u001b[0m \u001b[0miso2\u001b[0m \u001b[0;32min\u001b[0m \u001b[0mworld_cities\u001b[0m\u001b[0;34m[\u001b[0m\u001b[0;34m'iso2'\u001b[0m\u001b[0;34m]\u001b[0m\u001b[0;34m.\u001b[0m\u001b[0mto_list\u001b[0m\u001b[0;34m(\u001b[0m\u001b[0;34m)\u001b[0m\u001b[0;34m:\u001b[0m\u001b[0;34m\u001b[0m\u001b[0;34m\u001b[0m\u001b[0m\n\u001b[0m\u001b[1;32m      3\u001b[0m     \u001b[0;32mif\u001b[0m \u001b[0miso2\u001b[0m \u001b[0;32mnot\u001b[0m \u001b[0;32min\u001b[0m \u001b[0mworld_cities_iso2\u001b[0m\u001b[0;34m:\u001b[0m\u001b[0;34m\u001b[0m\u001b[0;34m\u001b[0m\u001b[0m\n\u001b[1;32m      4\u001b[0m         \u001b[0mworld_cities_iso2\u001b[0m\u001b[0;34m.\u001b[0m\u001b[0mappend\u001b[0m\u001b[0;34m(\u001b[0m\u001b[0miso2\u001b[0m\u001b[0;34m)\u001b[0m\u001b[0;34m\u001b[0m\u001b[0;34m\u001b[0m\u001b[0m\n\u001b[1;32m      5\u001b[0m \u001b[0mlen\u001b[0m\u001b[0;34m(\u001b[0m\u001b[0mworld_cities_iso2\u001b[0m\u001b[0;34m)\u001b[0m\u001b[0;34m\u001b[0m\u001b[0;34m\u001b[0m\u001b[0m\n",
      "\u001b[0;31mNameError\u001b[0m: name 'world_cities' is not defined"
     ]
    }
   ],
   "source": [
    "world_cities_iso2 = []\n",
    "for iso2 in world_cities['iso2'].to_list():\n",
    "    if iso2 not in world_cities_iso2:\n",
    "        world_cities_iso2.append(iso2)\n",
    "len(world_cities_iso2)"
   ]
  },
  {
   "cell_type": "code",
   "execution_count": 20,
   "metadata": {
    "ExecuteTime": {
     "end_time": "2021-02-11T23:13:20.552980Z",
     "start_time": "2021-02-11T23:13:20.532196Z"
    }
   },
   "outputs": [
    {
     "ename": "NameError",
     "evalue": "name 'world_cities' is not defined",
     "output_type": "error",
     "traceback": [
      "\u001b[0;31m---------------------------------------------------------------------------\u001b[0m",
      "\u001b[0;31mNameError\u001b[0m                                 Traceback (most recent call last)",
      "\u001b[0;32m<ipython-input-20-4a968c46fdef>\u001b[0m in \u001b[0;36m<module>\u001b[0;34m\u001b[0m\n\u001b[1;32m      1\u001b[0m \u001b[0mworld_cities_country\u001b[0m \u001b[0;34m=\u001b[0m \u001b[0;34m[\u001b[0m\u001b[0;34m]\u001b[0m\u001b[0;34m\u001b[0m\u001b[0;34m\u001b[0m\u001b[0m\n\u001b[0;32m----> 2\u001b[0;31m \u001b[0;32mfor\u001b[0m \u001b[0mcountry\u001b[0m \u001b[0;32min\u001b[0m \u001b[0mworld_cities\u001b[0m\u001b[0;34m[\u001b[0m\u001b[0;34m'country'\u001b[0m\u001b[0;34m]\u001b[0m\u001b[0;34m.\u001b[0m\u001b[0mto_list\u001b[0m\u001b[0;34m(\u001b[0m\u001b[0;34m)\u001b[0m\u001b[0;34m:\u001b[0m\u001b[0;34m\u001b[0m\u001b[0;34m\u001b[0m\u001b[0m\n\u001b[0m\u001b[1;32m      3\u001b[0m     \u001b[0;32mif\u001b[0m \u001b[0mcountry\u001b[0m \u001b[0;32mnot\u001b[0m \u001b[0;32min\u001b[0m \u001b[0mworld_cities_country\u001b[0m\u001b[0;34m:\u001b[0m\u001b[0;34m\u001b[0m\u001b[0;34m\u001b[0m\u001b[0m\n\u001b[1;32m      4\u001b[0m         \u001b[0mworld_cities_country\u001b[0m\u001b[0;34m.\u001b[0m\u001b[0mappend\u001b[0m\u001b[0;34m(\u001b[0m\u001b[0mcountry\u001b[0m\u001b[0;34m)\u001b[0m\u001b[0;34m\u001b[0m\u001b[0;34m\u001b[0m\u001b[0m\n\u001b[1;32m      5\u001b[0m \u001b[0mlen\u001b[0m\u001b[0;34m(\u001b[0m\u001b[0mworld_cities_country\u001b[0m\u001b[0;34m)\u001b[0m\u001b[0;34m\u001b[0m\u001b[0;34m\u001b[0m\u001b[0m\n",
      "\u001b[0;31mNameError\u001b[0m: name 'world_cities' is not defined"
     ]
    }
   ],
   "source": [
    "world_cities_country = []\n",
    "for country in world_cities['country'].to_list():\n",
    "    if country not in world_cities_country:\n",
    "        world_cities_country.append(country)\n",
    "len(world_cities_country)"
   ]
  },
  {
   "cell_type": "code",
   "execution_count": 21,
   "metadata": {
    "ExecuteTime": {
     "end_time": "2021-02-11T23:13:20.723134Z",
     "start_time": "2021-02-11T23:13:20.706548Z"
    }
   },
   "outputs": [
    {
     "ename": "NameError",
     "evalue": "name 'world_cities' is not defined",
     "output_type": "error",
     "traceback": [
      "\u001b[0;31m---------------------------------------------------------------------------\u001b[0m",
      "\u001b[0;31mNameError\u001b[0m                                 Traceback (most recent call last)",
      "\u001b[0;32m<ipython-input-21-578bf7dd16be>\u001b[0m in \u001b[0;36m<module>\u001b[0;34m\u001b[0m\n\u001b[0;32m----> 1\u001b[0;31m \u001b[0mcity_admin_name\u001b[0m \u001b[0;34m=\u001b[0m \u001b[0mworld_cities\u001b[0m\u001b[0;34m[\u001b[0m\u001b[0;34m'admin_name'\u001b[0m\u001b[0;34m]\u001b[0m\u001b[0;34m.\u001b[0m\u001b[0mto_list\u001b[0m\u001b[0;34m(\u001b[0m\u001b[0;34m)\u001b[0m\u001b[0;34m\u001b[0m\u001b[0;34m\u001b[0m\u001b[0m\n\u001b[0m\u001b[1;32m      2\u001b[0m \u001b[0mlen\u001b[0m\u001b[0;34m(\u001b[0m\u001b[0mcity_admin_name\u001b[0m\u001b[0;34m)\u001b[0m\u001b[0;34m\u001b[0m\u001b[0;34m\u001b[0m\u001b[0m\n",
      "\u001b[0;31mNameError\u001b[0m: name 'world_cities' is not defined"
     ]
    }
   ],
   "source": [
    "city_admin_name = world_cities['admin_name'].to_list()\n",
    "len(city_admin_name)"
   ]
  },
  {
   "cell_type": "code",
   "execution_count": 22,
   "metadata": {
    "ExecuteTime": {
     "end_time": "2021-02-11T23:13:20.913081Z",
     "start_time": "2021-02-11T23:13:20.888691Z"
    }
   },
   "outputs": [
    {
     "ename": "NameError",
     "evalue": "name 'world_cities' is not defined",
     "output_type": "error",
     "traceback": [
      "\u001b[0;31m---------------------------------------------------------------------------\u001b[0m",
      "\u001b[0;31mNameError\u001b[0m                                 Traceback (most recent call last)",
      "\u001b[0;32m<ipython-input-22-8871db355f0a>\u001b[0m in \u001b[0;36m<module>\u001b[0;34m\u001b[0m\n\u001b[0;32m----> 1\u001b[0;31m \u001b[0mworld_city\u001b[0m \u001b[0;34m=\u001b[0m \u001b[0mworld_cities\u001b[0m\u001b[0;34m[\u001b[0m\u001b[0;34m'city'\u001b[0m\u001b[0;34m]\u001b[0m\u001b[0;34m.\u001b[0m\u001b[0mfillna\u001b[0m\u001b[0;34m(\u001b[0m\u001b[0mvalue\u001b[0m\u001b[0;34m=\u001b[0m\u001b[0;34m''\u001b[0m\u001b[0;34m)\u001b[0m\u001b[0;34m.\u001b[0m\u001b[0mto_list\u001b[0m\u001b[0;34m(\u001b[0m\u001b[0;34m)\u001b[0m\u001b[0;34m\u001b[0m\u001b[0;34m\u001b[0m\u001b[0m\n\u001b[0m\u001b[1;32m      2\u001b[0m \u001b[0mlen\u001b[0m\u001b[0;34m(\u001b[0m\u001b[0mworld_city\u001b[0m\u001b[0;34m)\u001b[0m\u001b[0;34m\u001b[0m\u001b[0;34m\u001b[0m\u001b[0m\n",
      "\u001b[0;31mNameError\u001b[0m: name 'world_cities' is not defined"
     ]
    }
   ],
   "source": [
    "world_city = world_cities['city'].fillna(value='').to_list()\n",
    "len(world_city)"
   ]
  },
  {
   "cell_type": "markdown",
   "metadata": {
    "ExecuteTime": {
     "end_time": "2021-02-03T02:59:32.719318Z",
     "start_time": "2021-02-03T02:59:21.958Z"
    }
   },
   "source": [
    "# ."
   ]
  },
  {
   "cell_type": "code",
   "execution_count": 23,
   "metadata": {
    "ExecuteTime": {
     "end_time": "2021-02-11T23:13:21.928229Z",
     "start_time": "2021-02-11T23:13:21.897385Z"
    }
   },
   "outputs": [
    {
     "ename": "NameError",
     "evalue": "name 'world_city' is not defined",
     "output_type": "error",
     "traceback": [
      "\u001b[0;31m---------------------------------------------------------------------------\u001b[0m",
      "\u001b[0;31mNameError\u001b[0m                                 Traceback (most recent call last)",
      "\u001b[0;32m<ipython-input-23-c7ccd838407a>\u001b[0m in \u001b[0;36m<module>\u001b[0;34m\u001b[0m\n\u001b[1;32m      4\u001b[0m     \u001b[0;32mfor\u001b[0m \u001b[0meach\u001b[0m \u001b[0;32min\u001b[0m \u001b[0meach_loc\u001b[0m\u001b[0;34m:\u001b[0m\u001b[0;34m\u001b[0m\u001b[0;34m\u001b[0m\u001b[0m\n\u001b[1;32m      5\u001b[0m         \u001b[0meach\u001b[0m \u001b[0;34m=\u001b[0m \u001b[0meach\u001b[0m\u001b[0;34m.\u001b[0m\u001b[0mstrip\u001b[0m\u001b[0;34m(\u001b[0m\u001b[0;34m)\u001b[0m\u001b[0;34m\u001b[0m\u001b[0;34m\u001b[0m\u001b[0m\n\u001b[0;32m----> 6\u001b[0;31m         \u001b[0;32mif\u001b[0m \u001b[0meach\u001b[0m \u001b[0;32min\u001b[0m \u001b[0mworld_city\u001b[0m\u001b[0;34m:\u001b[0m\u001b[0;34m\u001b[0m\u001b[0;34m\u001b[0m\u001b[0m\n\u001b[0m\u001b[1;32m      7\u001b[0m             \u001b[0morder\u001b[0m\u001b[0;34m[\u001b[0m\u001b[0;36m0\u001b[0m\u001b[0;34m]\u001b[0m \u001b[0;34m=\u001b[0m \u001b[0mworld_city\u001b[0m\u001b[0;34m.\u001b[0m\u001b[0mindex\u001b[0m\u001b[0;34m(\u001b[0m\u001b[0meach\u001b[0m\u001b[0;34m)\u001b[0m\u001b[0;34m\u001b[0m\u001b[0;34m\u001b[0m\u001b[0m\n\u001b[1;32m      8\u001b[0m         \u001b[0;32mif\u001b[0m \u001b[0meach\u001b[0m \u001b[0;32min\u001b[0m \u001b[0mcity_admin_name\u001b[0m\u001b[0;34m:\u001b[0m\u001b[0;34m\u001b[0m\u001b[0;34m\u001b[0m\u001b[0m\n",
      "\u001b[0;31mNameError\u001b[0m: name 'world_city' is not defined"
     ]
    }
   ],
   "source": [
    "for ind in range(1000):\n",
    "    order = [False, False, False, False, False]\n",
    "    each_loc = location[ind]\n",
    "    for each in each_loc:\n",
    "        each = each.strip()\n",
    "        if each in world_city:\n",
    "            order[0] = world_city.index(each)\n",
    "        if each in city_admin_name:\n",
    "            order[1] = city_admin_name.index(each)\n",
    "        if each in world_cities_country:\n",
    "            order[2] = world_cities_country.index(each)\n",
    "        if each in world_cities_iso2:\n",
    "            order[3] = world_cities_iso2.index(each)\n",
    "        if each in world_cities_iso3:\n",
    "            order[4] = world_cities_iso3.index(each)\n",
    "    if order[0]:\n",
    "        covid_tweets['latitude'][ind] = lat[order[0]]\n",
    "        covid_tweets['longitude'][ind] = lng[order[0]]\n",
    "        continue\n",
    "    if order[1]:\n",
    "        covid_tweets['latitude'][ind] = lat[order[1]]\n",
    "        covid_tweets['longitude'][ind] = lng[order[1]]\n",
    "        continue\n",
    "    if order[2]:\n",
    "        try:\n",
    "            covid_tweets['latitude'][ind] = code_latitude[codes.index(\n",
    "                world_city_iso2[order[2]].upper())]\n",
    "            covid_tweets['longitude'][ind] = code_longitude[codes.index(\n",
    "                world_city_iso2[order[2]].upper())]\n",
    "        except:\n",
    "            pass\n",
    "        continue\n",
    "    if order[3]:\n",
    "        covid_tweets['latitude'][ind] = code_latitude[codes.index(\n",
    "            world_cities_iso2[order[3]].upper())]\n",
    "        covid_tweets['longitude'][ind] = code_longitude[codes.index(\n",
    "            world_cities_iso2[order[3]].upper())]\n",
    "        continue\n",
    "    if order[4]:\n",
    "        covid_tweets['latitude'][ind] = code_latitude[codes.index(\n",
    "            world_cities_iso2[order[4]].upper())]\n",
    "        covid_tweets['longitude'][ind] = code_longitude[codes.index(\n",
    "            world_cities_iso2[order[4]].upper())]\n",
    "        continue"
   ]
  },
  {
   "cell_type": "code",
   "execution_count": 24,
   "metadata": {
    "ExecuteTime": {
     "end_time": "2021-02-11T23:13:22.162282Z",
     "start_time": "2021-02-11T23:13:22.142675Z"
    }
   },
   "outputs": [
    {
     "ename": "NameError",
     "evalue": "name 'covid_tweets' is not defined",
     "output_type": "error",
     "traceback": [
      "\u001b[0;31m---------------------------------------------------------------------------\u001b[0m",
      "\u001b[0;31mNameError\u001b[0m                                 Traceback (most recent call last)",
      "\u001b[0;32m<ipython-input-24-f75b998ef6ea>\u001b[0m in \u001b[0;36m<module>\u001b[0;34m\u001b[0m\n\u001b[0;32m----> 1\u001b[0;31m \u001b[0mcovid_tweets\u001b[0m\u001b[0;34m.\u001b[0m\u001b[0mhead\u001b[0m\u001b[0;34m(\u001b[0m\u001b[0;34m)\u001b[0m\u001b[0;34m\u001b[0m\u001b[0;34m\u001b[0m\u001b[0m\n\u001b[0m",
      "\u001b[0;31mNameError\u001b[0m: name 'covid_tweets' is not defined"
     ]
    }
   ],
   "source": [
    "covid_tweets.head()"
   ]
  },
  {
   "cell_type": "code",
   "execution_count": 25,
   "metadata": {
    "ExecuteTime": {
     "end_time": "2021-02-11T23:13:22.326524Z",
     "start_time": "2021-02-11T23:13:22.307155Z"
    }
   },
   "outputs": [
    {
     "ename": "NameError",
     "evalue": "name 'lat' is not defined",
     "output_type": "error",
     "traceback": [
      "\u001b[0;31m---------------------------------------------------------------------------\u001b[0m",
      "\u001b[0;31mNameError\u001b[0m                                 Traceback (most recent call last)",
      "\u001b[0;32m<ipython-input-25-5f6373ca0a80>\u001b[0m in \u001b[0;36m<module>\u001b[0;34m\u001b[0m\n\u001b[0;32m----> 1\u001b[0;31m \u001b[0mlat\u001b[0m\u001b[0;34m[\u001b[0m\u001b[0;36m5\u001b[0m\u001b[0;34m]\u001b[0m\u001b[0;34m\u001b[0m\u001b[0;34m\u001b[0m\u001b[0m\n\u001b[0m",
      "\u001b[0;31mNameError\u001b[0m: name 'lat' is not defined"
     ]
    }
   ],
   "source": [
    "lat[5]"
   ]
  },
  {
   "cell_type": "code",
   "execution_count": 26,
   "metadata": {
    "ExecuteTime": {
     "end_time": "2021-02-11T23:13:22.575308Z",
     "start_time": "2021-02-11T23:13:22.553127Z"
    }
   },
   "outputs": [
    {
     "ename": "NameError",
     "evalue": "name 'covid_tweets' is not defined",
     "output_type": "error",
     "traceback": [
      "\u001b[0;31m---------------------------------------------------------------------------\u001b[0m",
      "\u001b[0;31mNameError\u001b[0m                                 Traceback (most recent call last)",
      "\u001b[0;32m<ipython-input-26-1464bf594371>\u001b[0m in \u001b[0;36m<module>\u001b[0;34m\u001b[0m\n\u001b[0;32m----> 1\u001b[0;31m \u001b[0mlen\u001b[0m\u001b[0;34m(\u001b[0m\u001b[0mcovid_tweets\u001b[0m\u001b[0;34m.\u001b[0m\u001b[0mlatitude\u001b[0m\u001b[0;34m.\u001b[0m\u001b[0munique\u001b[0m\u001b[0;34m(\u001b[0m\u001b[0;34m)\u001b[0m\u001b[0;34m)\u001b[0m\u001b[0;34m\u001b[0m\u001b[0;34m\u001b[0m\u001b[0m\n\u001b[0m",
      "\u001b[0;31mNameError\u001b[0m: name 'covid_tweets' is not defined"
     ]
    }
   ],
   "source": [
    "len(covid_tweets.latitude.unique())"
   ]
  },
  {
   "cell_type": "code",
   "execution_count": 27,
   "metadata": {
    "ExecuteTime": {
     "end_time": "2021-02-11T23:13:22.778595Z",
     "start_time": "2021-02-11T23:13:22.759804Z"
    }
   },
   "outputs": [
    {
     "data": {
      "text/plain": [
       "0                         [astroworld]\n",
       "1                       [New York, NY]\n",
       "2                   [Pewee Valley, KY]\n",
       "3              [Stuck in the Middle, ]\n",
       "4                  [Jammu and Kashmir]\n",
       "                      ...             \n",
       "179103               [Ilorin, Nigeria]\n",
       "179104                       [Ontario]\n",
       "179105                     [🇨🇦 Canada]\n",
       "179106                 [New York City]\n",
       "179107    [Aliwal North, South Africa]\n",
       "Name: user_location, Length: 179108, dtype: object"
      ]
     },
     "execution_count": 27,
     "metadata": {},
     "output_type": "execute_result"
    }
   ],
   "source": [
    "location"
   ]
  },
  {
   "cell_type": "code",
   "execution_count": 28,
   "metadata": {
    "ExecuteTime": {
     "end_time": "2021-02-11T23:13:22.983573Z",
     "start_time": "2021-02-11T23:13:22.960795Z"
    }
   },
   "outputs": [
    {
     "ename": "NameError",
     "evalue": "name 'world_city' is not defined",
     "output_type": "error",
     "traceback": [
      "\u001b[0;31m---------------------------------------------------------------------------\u001b[0m",
      "\u001b[0;31mNameError\u001b[0m                                 Traceback (most recent call last)",
      "\u001b[0;32m<ipython-input-28-9f13f2b65abe>\u001b[0m in \u001b[0;36m<module>\u001b[0;34m\u001b[0m\n\u001b[0;32m----> 1\u001b[0;31m \u001b[0;34m'New York'\u001b[0m \u001b[0;32min\u001b[0m \u001b[0mworld_city\u001b[0m\u001b[0;34m\u001b[0m\u001b[0;34m\u001b[0m\u001b[0m\n\u001b[0m",
      "\u001b[0;31mNameError\u001b[0m: name 'world_city' is not defined"
     ]
    }
   ],
   "source": [
    "'New York' in world_city"
   ]
  },
  {
   "cell_type": "code",
   "execution_count": null,
   "metadata": {},
   "outputs": [],
   "source": []
  }
 ],
 "metadata": {
  "kernelspec": {
   "display_name": "Python 3",
   "language": "python",
   "name": "python3"
  },
  "language_info": {
   "codemirror_mode": {
    "name": "ipython",
    "version": 3
   },
   "file_extension": ".py",
   "mimetype": "text/x-python",
   "name": "python",
   "nbconvert_exporter": "python",
   "pygments_lexer": "ipython3",
   "version": "3.7.9"
  },
  "latex_envs": {
   "LaTeX_envs_menu_present": true,
   "autoclose": false,
   "autocomplete": true,
   "bibliofile": "biblio.bib",
   "cite_by": "apalike",
   "current_citInitial": 1,
   "eqLabelWithNumbers": true,
   "eqNumInitial": 1,
   "hotkeys": {
    "equation": "Ctrl-E",
    "itemize": "Ctrl-I"
   },
   "labels_anchors": false,
   "latex_user_defs": false,
   "report_style_numbering": false,
   "user_envs_cfg": false
  },
  "nbTranslate": {
   "displayLangs": [
    "*"
   ],
   "hotkey": "alt-t",
   "langInMainMenu": true,
   "sourceLang": "en",
   "targetLang": "fr",
   "useGoogleTranslate": true
  },
  "toc": {
   "base_numbering": 1,
   "nav_menu": {},
   "number_sections": true,
   "sideBar": true,
   "skip_h1_title": false,
   "title_cell": "Table of Contents",
   "title_sidebar": "Contents",
   "toc_cell": false,
   "toc_position": {
    "height": "calc(100% - 180px)",
    "left": "10px",
    "top": "150px",
    "width": "288px"
   },
   "toc_section_display": true,
   "toc_window_display": true
  },
  "varInspector": {
   "cols": {
    "lenName": 16,
    "lenType": 16,
    "lenVar": 40
   },
   "kernels_config": {
    "python": {
     "delete_cmd_postfix": "",
     "delete_cmd_prefix": "del ",
     "library": "var_list.py",
     "varRefreshCmd": "print(var_dic_list())"
    },
    "r": {
     "delete_cmd_postfix": ") ",
     "delete_cmd_prefix": "rm(",
     "library": "var_list.r",
     "varRefreshCmd": "cat(var_dic_list()) "
    }
   },
   "position": {
    "height": "90px",
    "left": "1078px",
    "right": "20px",
    "top": "120px",
    "width": "314px"
   },
   "types_to_exclude": [
    "module",
    "function",
    "builtin_function_or_method",
    "instance",
    "_Feature"
   ],
   "window_display": true
  }
 },
 "nbformat": 4,
 "nbformat_minor": 4
}
